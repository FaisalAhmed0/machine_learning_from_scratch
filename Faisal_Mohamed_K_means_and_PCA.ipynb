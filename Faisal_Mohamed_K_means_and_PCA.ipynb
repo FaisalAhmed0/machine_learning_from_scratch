{
  "nbformat": 4,
  "nbformat_minor": 0,
  "metadata": {
    "colab": {
      "name": "Faisal_Mohamed_K_means_and_PCA.ipynb",
      "provenance": [],
      "authorship_tag": "ABX9TyNcDSbMMAKmvnjRzPbxQWdP"
    },
    "kernelspec": {
      "name": "python3",
      "display_name": "Python 3"
    }
  },
  "cells": [
    {
      "cell_type": "code",
      "metadata": {
        "id": "IW4DtX46uBSl"
      },
      "source": [
        "import numpy as np\n",
        "import matplotlib.pyplot as plt\n",
        "import pandas as pd\n"
      ],
      "execution_count": null,
      "outputs": []
    },
    {
      "cell_type": "code",
      "metadata": {
        "id": "0f7hR2IIuLQG"
      },
      "source": [
        "data = pd.read_csv(\"Data.csv\")"
      ],
      "execution_count": null,
      "outputs": []
    },
    {
      "cell_type": "markdown",
      "metadata": {
        "id": "SLkQIGDxuT0t"
      },
      "source": [
        "# K Means"
      ]
    },
    {
      "cell_type": "code",
      "metadata": {
        "colab": {
          "base_uri": "https://localhost:8080/",
          "height": 198
        },
        "id": "jIZ6guhmuSnV",
        "outputId": "bd8e84f2-0fca-44ed-9b3c-4012be92bcd4"
      },
      "source": [
        "data.head()"
      ],
      "execution_count": null,
      "outputs": [
        {
          "output_type": "execute_result",
          "data": {
            "text/html": [
              "<div>\n",
              "<style scoped>\n",
              "    .dataframe tbody tr th:only-of-type {\n",
              "        vertical-align: middle;\n",
              "    }\n",
              "\n",
              "    .dataframe tbody tr th {\n",
              "        vertical-align: top;\n",
              "    }\n",
              "\n",
              "    .dataframe thead th {\n",
              "        text-align: right;\n",
              "    }\n",
              "</style>\n",
              "<table border=\"1\" class=\"dataframe\">\n",
              "  <thead>\n",
              "    <tr style=\"text-align: right;\">\n",
              "      <th></th>\n",
              "      <th>f1</th>\n",
              "      <th>f2</th>\n",
              "      <th>f3</th>\n",
              "      <th>f4</th>\n",
              "    </tr>\n",
              "  </thead>\n",
              "  <tbody>\n",
              "    <tr>\n",
              "      <th>0</th>\n",
              "      <td>5.1</td>\n",
              "      <td>3.5</td>\n",
              "      <td>1.4</td>\n",
              "      <td>0.2</td>\n",
              "    </tr>\n",
              "    <tr>\n",
              "      <th>1</th>\n",
              "      <td>4.9</td>\n",
              "      <td>3.0</td>\n",
              "      <td>1.4</td>\n",
              "      <td>0.2</td>\n",
              "    </tr>\n",
              "    <tr>\n",
              "      <th>2</th>\n",
              "      <td>4.7</td>\n",
              "      <td>3.2</td>\n",
              "      <td>1.3</td>\n",
              "      <td>0.2</td>\n",
              "    </tr>\n",
              "    <tr>\n",
              "      <th>3</th>\n",
              "      <td>4.6</td>\n",
              "      <td>3.1</td>\n",
              "      <td>1.5</td>\n",
              "      <td>0.2</td>\n",
              "    </tr>\n",
              "    <tr>\n",
              "      <th>4</th>\n",
              "      <td>5.0</td>\n",
              "      <td>3.6</td>\n",
              "      <td>1.4</td>\n",
              "      <td>0.2</td>\n",
              "    </tr>\n",
              "  </tbody>\n",
              "</table>\n",
              "</div>"
            ],
            "text/plain": [
              "    f1   f2   f3   f4\n",
              "0  5.1  3.5  1.4  0.2\n",
              "1  4.9  3.0  1.4  0.2\n",
              "2  4.7  3.2  1.3  0.2\n",
              "3  4.6  3.1  1.5  0.2\n",
              "4  5.0  3.6  1.4  0.2"
            ]
          },
          "metadata": {
            "tags": []
          },
          "execution_count": 3
        }
      ]
    },
    {
      "cell_type": "code",
      "metadata": {
        "id": "SlpbM_yCuarv"
      },
      "source": [
        "# repeat\n",
        "# 1. Initilize centroids\n",
        "# 2. compute distances\n",
        "# 3. Assign to each cluster its data point\n",
        "# 4. update the centrioid"
      ],
      "execution_count": null,
      "outputs": []
    },
    {
      "cell_type": "code",
      "metadata": {
        "id": "Lh8D8OglvnkG"
      },
      "source": [
        "# 1. Initilize centroids\n",
        "def initlialize_centriods(data, k):\n",
        "  # data size\n",
        "  n = data.shape[0]\n",
        "  # Pick random indices\n",
        "  inds = np.random.choice(n, size=k, replace=False)\n",
        "  # pick the centriods\n",
        "  centriods = data.iloc[inds, :]\n",
        "  return centriods"
      ],
      "execution_count": null,
      "outputs": []
    },
    {
      "cell_type": "code",
      "metadata": {
        "colab": {
          "base_uri": "https://localhost:8080/",
          "height": 138
        },
        "id": "bNH54Sklwf-e",
        "outputId": "66853c8c-2111-466e-d0ca-787653c8aeda"
      },
      "source": [
        "k = 3\n",
        "centriods = initlialize_centriods(data, k)\n",
        "centriods"
      ],
      "execution_count": null,
      "outputs": [
        {
          "output_type": "execute_result",
          "data": {
            "text/html": [
              "<div>\n",
              "<style scoped>\n",
              "    .dataframe tbody tr th:only-of-type {\n",
              "        vertical-align: middle;\n",
              "    }\n",
              "\n",
              "    .dataframe tbody tr th {\n",
              "        vertical-align: top;\n",
              "    }\n",
              "\n",
              "    .dataframe thead th {\n",
              "        text-align: right;\n",
              "    }\n",
              "</style>\n",
              "<table border=\"1\" class=\"dataframe\">\n",
              "  <thead>\n",
              "    <tr style=\"text-align: right;\">\n",
              "      <th></th>\n",
              "      <th>f1</th>\n",
              "      <th>f2</th>\n",
              "      <th>f3</th>\n",
              "      <th>f4</th>\n",
              "    </tr>\n",
              "  </thead>\n",
              "  <tbody>\n",
              "    <tr>\n",
              "      <th>118</th>\n",
              "      <td>7.7</td>\n",
              "      <td>2.6</td>\n",
              "      <td>6.9</td>\n",
              "      <td>2.3</td>\n",
              "    </tr>\n",
              "    <tr>\n",
              "      <th>136</th>\n",
              "      <td>6.3</td>\n",
              "      <td>3.4</td>\n",
              "      <td>5.6</td>\n",
              "      <td>2.4</td>\n",
              "    </tr>\n",
              "    <tr>\n",
              "      <th>46</th>\n",
              "      <td>5.1</td>\n",
              "      <td>3.8</td>\n",
              "      <td>1.6</td>\n",
              "      <td>0.2</td>\n",
              "    </tr>\n",
              "  </tbody>\n",
              "</table>\n",
              "</div>"
            ],
            "text/plain": [
              "      f1   f2   f3   f4\n",
              "118  7.7  2.6  6.9  2.3\n",
              "136  6.3  3.4  5.6  2.4\n",
              "46   5.1  3.8  1.6  0.2"
            ]
          },
          "metadata": {
            "tags": []
          },
          "execution_count": 6
        }
      ]
    },
    {
      "cell_type": "code",
      "metadata": {
        "id": "TU2kiSDRwil3"
      },
      "source": [
        "# 2. compute distances\n",
        "from collections import defaultdict\n",
        "def compute_distnce(data, centriods):\n",
        "  K = centriods.shape[0]\n",
        "  dis_df = pd.DataFrame(columns= [f\"c{i}\" for i in range(1, K+1)])\n",
        "  # print( centriods)\n",
        "  for k in range(K):\n",
        "    dis_df[f\"c{k+1}\"] = ((data - centriods.iloc[k, :])**2).sum(axis=1)\n",
        "  return dis_df"
      ],
      "execution_count": null,
      "outputs": []
    },
    {
      "cell_type": "code",
      "metadata": {
        "id": "NFquk8ZAxbOU"
      },
      "source": [
        "dis_df = compute_distnce(data, centriods)\n"
      ],
      "execution_count": null,
      "outputs": []
    },
    {
      "cell_type": "code",
      "metadata": {
        "colab": {
          "base_uri": "https://localhost:8080/"
        },
        "id": "Nw7nQu2Z6tjA",
        "outputId": "ce900877-3fe4-4e65-c4e6-af9a6a1df7e2"
      },
      "source": [
        "argmin = dis_df.to_numpy().argmin(axis=1)\n",
        "argmin"
      ],
      "execution_count": null,
      "outputs": [
        {
          "output_type": "execute_result",
          "data": {
            "text/plain": [
              "array([2, 2, 2, 2, 2, 2, 2, 2, 2, 2, 2, 2, 2, 2, 2, 2, 2, 2, 2, 2, 2, 2,\n",
              "       2, 2, 2, 2, 2, 2, 2, 2, 2, 2, 2, 2, 2, 2, 2, 2, 2, 2, 2, 2, 2, 2,\n",
              "       2, 2, 2, 2, 2, 2, 1, 1, 1, 1, 1, 1, 1, 2, 1, 1, 2, 1, 1, 1, 1, 1,\n",
              "       1, 1, 1, 1, 1, 1, 1, 1, 1, 1, 1, 1, 1, 2, 1, 2, 1, 1, 1, 1, 1, 1,\n",
              "       1, 1, 1, 1, 1, 2, 1, 1, 1, 1, 2, 1, 1, 1, 1, 1, 1, 0, 1, 0, 1, 1,\n",
              "       1, 1, 1, 1, 1, 1, 1, 0, 0, 1, 1, 1, 0, 1, 1, 1, 1, 1, 1, 1, 0, 0,\n",
              "       1, 1, 1, 0, 1, 1, 1, 1, 1, 1, 1, 1, 1, 1, 1, 1, 1, 1])"
            ]
          },
          "metadata": {
            "tags": []
          },
          "execution_count": 9
        }
      ]
    },
    {
      "cell_type": "code",
      "metadata": {
        "colab": {
          "base_uri": "https://localhost:8080/",
          "height": 198
        },
        "id": "VbLy47pTyCxF",
        "outputId": "1a60ec80-0c26-481f-8cb9-c0457351cfde"
      },
      "source": [
        "dis_df.head()"
      ],
      "execution_count": null,
      "outputs": [
        {
          "output_type": "execute_result",
          "data": {
            "text/html": [
              "<div>\n",
              "<style scoped>\n",
              "    .dataframe tbody tr th:only-of-type {\n",
              "        vertical-align: middle;\n",
              "    }\n",
              "\n",
              "    .dataframe tbody tr th {\n",
              "        vertical-align: top;\n",
              "    }\n",
              "\n",
              "    .dataframe thead th {\n",
              "        text-align: right;\n",
              "    }\n",
              "</style>\n",
              "<table border=\"1\" class=\"dataframe\">\n",
              "  <thead>\n",
              "    <tr style=\"text-align: right;\">\n",
              "      <th></th>\n",
              "      <th>c1</th>\n",
              "      <th>c2</th>\n",
              "      <th>c3</th>\n",
              "    </tr>\n",
              "  </thead>\n",
              "  <tbody>\n",
              "    <tr>\n",
              "      <th>0</th>\n",
              "      <td>42.23</td>\n",
              "      <td>23.93</td>\n",
              "      <td>0.13</td>\n",
              "    </tr>\n",
              "    <tr>\n",
              "      <th>1</th>\n",
              "      <td>42.66</td>\n",
              "      <td>24.60</td>\n",
              "      <td>0.72</td>\n",
              "    </tr>\n",
              "    <tr>\n",
              "      <th>2</th>\n",
              "      <td>45.13</td>\n",
              "      <td>25.93</td>\n",
              "      <td>0.61</td>\n",
              "    </tr>\n",
              "    <tr>\n",
              "      <th>3</th>\n",
              "      <td>43.43</td>\n",
              "      <td>24.63</td>\n",
              "      <td>0.75</td>\n",
              "    </tr>\n",
              "    <tr>\n",
              "      <th>4</th>\n",
              "      <td>42.95</td>\n",
              "      <td>24.21</td>\n",
              "      <td>0.09</td>\n",
              "    </tr>\n",
              "  </tbody>\n",
              "</table>\n",
              "</div>"
            ],
            "text/plain": [
              "      c1     c2    c3\n",
              "0  42.23  23.93  0.13\n",
              "1  42.66  24.60  0.72\n",
              "2  45.13  25.93  0.61\n",
              "3  43.43  24.63  0.75\n",
              "4  42.95  24.21  0.09"
            ]
          },
          "metadata": {
            "tags": []
          },
          "execution_count": 10
        }
      ]
    },
    {
      "cell_type": "code",
      "metadata": {
        "id": "XnJEZKvI3N8S"
      },
      "source": [
        "def assign_clusters(data, dis_df, centriods):\n",
        "  K = centriods.shape[0]\n",
        "  columns= [f\"c{i}\" for i in range(1, K+1)]\n",
        "  d = {i: v for i, v in zip(range(K), columns)}\n",
        "  argmin = dis_df.to_numpy().argmin(axis=1)\n",
        "  clusters = {k:[] for k in columns}\n",
        "  for i, dis in enumerate(dis_df.to_numpy()):\n",
        "    min_ind = dis.argmin()\n",
        "    point = data.iloc[i]\n",
        "    cluster = d[min_ind]\n",
        "    clusters[cluster].append(point.to_numpy())\n",
        "  # print(clusters)\n",
        "  return clusters"
      ],
      "execution_count": null,
      "outputs": []
    },
    {
      "cell_type": "code",
      "metadata": {
        "id": "269BlI_S-T9s"
      },
      "source": [
        "clu = assign_clusters(data, dis_df, centriods)"
      ],
      "execution_count": null,
      "outputs": []
    },
    {
      "cell_type": "code",
      "metadata": {
        "id": "jMsYxXQk3iY2"
      },
      "source": [
        "# 4. update the centrioid\n",
        "def update_cnetriod(clusters, k, n):\n",
        "  d = {}\n",
        "  for i, cluster in enumerate(clusters):\n",
        "    d[f\"c{i+1}\"] = np.mean(clusters[cluster], axis=0)\n",
        "  # print(f\"d={d}\")\n",
        "  df = pd.DataFrame(d, columns=None).T\n",
        "  df.columns = [f\"f{i+1}\" for i in range(n)]\n",
        "  df.index = [i for i in range(k)]\n",
        "  return df"
      ],
      "execution_count": null,
      "outputs": []
    },
    {
      "cell_type": "code",
      "metadata": {
        "id": "bO5HBbqm8O9N"
      },
      "source": [
        "def K_means(data, iterations=1000, k=3, show_progress=False):\n",
        "  centriods = initlialize_centriods(data, k)\n",
        "  n = data.shape[1]\n",
        "  for i in range(iterations):\n",
        "    dis_df = compute_distnce(data.copy(), centriods)\n",
        "    # print(f\"dis: {dis_df}\")\n",
        "    clusters = assign_clusters(data, dis_df, centriods)\n",
        "    centriods = update_cnetriod(clusters, k, n)\n",
        "    if show_progress:\n",
        "      print(f\"Iteration: {i+1}\")\n",
        "      print(centriods.to_numpy())\n",
        "  return centriods, clusters"
      ],
      "execution_count": null,
      "outputs": []
    },
    {
      "cell_type": "code",
      "metadata": {
        "id": "cr75_ZtoAfWU"
      },
      "source": [
        "final_centriods, _ = K_means(data, 300, 2, False)"
      ],
      "execution_count": null,
      "outputs": []
    },
    {
      "cell_type": "code",
      "metadata": {
        "colab": {
          "base_uri": "https://localhost:8080/",
          "height": 108
        },
        "id": "Nodpus80GmsD",
        "outputId": "4aea9639-ced8-4984-ec8a-aa18a7182946"
      },
      "source": [
        "final_centriods"
      ],
      "execution_count": null,
      "outputs": [
        {
          "output_type": "execute_result",
          "data": {
            "text/html": [
              "<div>\n",
              "<style scoped>\n",
              "    .dataframe tbody tr th:only-of-type {\n",
              "        vertical-align: middle;\n",
              "    }\n",
              "\n",
              "    .dataframe tbody tr th {\n",
              "        vertical-align: top;\n",
              "    }\n",
              "\n",
              "    .dataframe thead th {\n",
              "        text-align: right;\n",
              "    }\n",
              "</style>\n",
              "<table border=\"1\" class=\"dataframe\">\n",
              "  <thead>\n",
              "    <tr style=\"text-align: right;\">\n",
              "      <th></th>\n",
              "      <th>f1</th>\n",
              "      <th>f2</th>\n",
              "      <th>f3</th>\n",
              "      <th>f4</th>\n",
              "    </tr>\n",
              "  </thead>\n",
              "  <tbody>\n",
              "    <tr>\n",
              "      <th>0</th>\n",
              "      <td>5.005660</td>\n",
              "      <td>3.369811</td>\n",
              "      <td>1.560377</td>\n",
              "      <td>0.290566</td>\n",
              "    </tr>\n",
              "    <tr>\n",
              "      <th>1</th>\n",
              "      <td>6.301031</td>\n",
              "      <td>2.886598</td>\n",
              "      <td>4.958763</td>\n",
              "      <td>1.695876</td>\n",
              "    </tr>\n",
              "  </tbody>\n",
              "</table>\n",
              "</div>"
            ],
            "text/plain": [
              "         f1        f2        f3        f4\n",
              "0  5.005660  3.369811  1.560377  0.290566\n",
              "1  6.301031  2.886598  4.958763  1.695876"
            ]
          },
          "metadata": {
            "tags": []
          },
          "execution_count": 16
        }
      ]
    },
    {
      "cell_type": "code",
      "metadata": {
        "colab": {
          "base_uri": "https://localhost:8080/",
          "height": 285
        },
        "id": "yh5XkT7-AjjK",
        "outputId": "e2b98014-e303-445e-91d6-0bdf283f3051"
      },
      "source": [
        "plt.scatter(data.iloc[:, 0], data.iloc[:, 1])\n",
        "plt.scatter(final_centriods.iloc[:, 0], final_centriods.iloc[:, 1])"
      ],
      "execution_count": null,
      "outputs": [
        {
          "output_type": "execute_result",
          "data": {
            "text/plain": [
              "<matplotlib.collections.PathCollection at 0x7f3b9f793650>"
            ]
          },
          "metadata": {
            "tags": []
          },
          "execution_count": 17
        },
        {
          "output_type": "display_data",
          "data": {
            "image/png": "[encoded data removed]",
            "text/plain": [
              "<Figure size 432x288 with 1 Axes>"
            ]
          },
          "metadata": {
            "tags": [],
            "needs_background": "light"
          }
        }
      ]
    },
    {
      "cell_type": "code",
      "metadata": {
        "colab": {
          "base_uri": "https://localhost:8080/",
          "height": 282
        },
        "id": "qg37aAHeGZr_",
        "outputId": "ead07dd1-8933-4f61-a5bd-2407a8ca07af"
      },
      "source": [
        "plt.scatter(data.iloc[:, 1], data.iloc[:, 2])\n",
        "plt.scatter(final_centriods.iloc[:, 1], final_centriods.iloc[:, 2])"
      ],
      "execution_count": null,
      "outputs": [
        {
          "output_type": "execute_result",
          "data": {
            "text/plain": [
              "<matplotlib.collections.PathCollection at 0x7f3b9f274a10>"
            ]
          },
          "metadata": {
            "tags": []
          },
          "execution_count": 18
        },
        {
          "output_type": "display_data",
          "data": {
            "image/png": "[encoded data removed]",
            "text/plain": [
              "<Figure size 432x288 with 1 Axes>"
            ]
          },
          "metadata": {
            "tags": [],
            "needs_background": "light"
          }
        }
      ]
    },
    {
      "cell_type": "code",
      "metadata": {
        "colab": {
          "base_uri": "https://localhost:8080/",
          "height": 282
        },
        "id": "kYSg8xUXHAYF",
        "outputId": "13f4222b-b2dd-43f7-961c-7feabafa55aa"
      },
      "source": [
        "plt.scatter(data.iloc[:, 2], data.iloc[:, 3])\n",
        "plt.scatter(final_centriods.iloc[:, 2], final_centriods.iloc[:, 3])"
      ],
      "execution_count": null,
      "outputs": [
        {
          "output_type": "execute_result",
          "data": {
            "text/plain": [
              "<matplotlib.collections.PathCollection at 0x7f3b9f71a8d0>"
            ]
          },
          "metadata": {
            "tags": []
          },
          "execution_count": 19
        },
        {
          "output_type": "display_data",
          "data": {
            "image/png": "[encoded data removed]",
            "text/plain": [
              "<Figure size 432x288 with 1 Axes>"
            ]
          },
          "metadata": {
            "tags": [],
            "needs_background": "light"
          }
        }
      ]
    },
    {
      "cell_type": "markdown",
      "metadata": {
        "id": "IBDb5HoWPMCO"
      },
      "source": [
        "# PCA"
      ]
    },
    {
      "cell_type": "code",
      "metadata": {
        "id": "hsg7Ts3tHL1A"
      },
      "source": [
        "data = pd.read_csv(\"Data.csv\")"
      ],
      "execution_count": null,
      "outputs": []
    },
    {
      "cell_type": "code",
      "metadata": {
        "id": "YgwVteXMPmyg"
      },
      "source": [
        "# PCA\n",
        "# 1. Standarize your data\n",
        "# 2. Compute the covariance matrix\n",
        "# 3. Perform eigen decemposition to extract the k principle components "
      ],
      "execution_count": null,
      "outputs": []
    },
    {
      "cell_type": "code",
      "metadata": {
        "id": "1lqw-yulRGkW"
      },
      "source": [
        "# 1. Standarize your data\n",
        "def standardize_data(data):\n",
        "  return (data - data.mean()) / data.std()"
      ],
      "execution_count": null,
      "outputs": []
    },
    {
      "cell_type": "code",
      "metadata": {
        "id": "hUYhKPVxRvrM"
      },
      "source": [
        "# 2. Compute the covariance matrix\n",
        "def cov_matrix(data):\n",
        "  return data.to_numpy().T @ data.to_numpy()"
      ],
      "execution_count": null,
      "outputs": []
    },
    {
      "cell_type": "code",
      "metadata": {
        "id": "jduHgvUgSAVS"
      },
      "source": [
        "# 3. Perform eigen decemposition to extract the k principle components \n",
        "def eig_decomp(m):\n",
        "  e, v = np.linalg.eig(m)\n",
        "  return e, v"
      ],
      "execution_count": null,
      "outputs": []
    },
    {
      "cell_type": "code",
      "metadata": {
        "id": "7cjJR6QhTMv8"
      },
      "source": [
        "def PCA(data, rank):\n",
        "  data_stand = standardize_data(data)\n",
        "  cov = cov_matrix(data_stand)\n",
        "  e, v = eig_decomp(cov)\n",
        "  P = v[:, :rank]\n",
        "  return P"
      ],
      "execution_count": null,
      "outputs": []
    },
    {
      "cell_type": "code",
      "metadata": {
        "id": "teXDpKICUaQB"
      },
      "source": [
        "P = PCA(data, 2)"
      ],
      "execution_count": null,
      "outputs": []
    },
    {
      "cell_type": "code",
      "metadata": {
        "id": "_P1f1hGlUeKD"
      },
      "source": [
        "# Using the first two principal components, we will plot the projected data and the centriods from the previous section\n",
        "data_proj = data.to_numpy() @ P\n",
        "centriods_proj = final_centriods.to_numpy() @ P"
      ],
      "execution_count": null,
      "outputs": []
    },
    {
      "cell_type": "code",
      "metadata": {
        "colab": {
          "base_uri": "https://localhost:8080/",
          "height": 282
        },
        "id": "kllBMyA-VKN7",
        "outputId": "d6dce542-525e-472b-d477-550f2b59952a"
      },
      "source": [
        "plt.scatter(data_proj[:, 0], data_proj[:, 1])\n",
        "plt.scatter(centriods_proj[:, 0], centriods_proj[:, 1])"
      ],
      "execution_count": null,
      "outputs": [
        {
          "output_type": "execute_result",
          "data": {
            "text/plain": [
              "<matplotlib.collections.PathCollection at 0x7f3b9e9cd490>"
            ]
          },
          "metadata": {
            "tags": []
          },
          "execution_count": 28
        },
        {
          "output_type": "display_data",
          "data": {
            "image/png": "[encoded data removed]",
            "text/plain": [
              "<Figure size 432x288 with 1 Axes>"
            ]
          },
          "metadata": {
            "tags": [],
            "needs_background": "light"
          }
        }
      ]
    },
    {
      "cell_type": "code",
      "metadata": {
        "id": "rosPbwyjVuWN"
      },
      "source": [
        "P = PCA(data, 3)"
      ],
      "execution_count": null,
      "outputs": []
    },
    {
      "cell_type": "code",
      "metadata": {
        "id": "myYJVq_IVhZM"
      },
      "source": [
        "# Now we will the first three principal components, and plot the projected data and the centriods from the previous section\n",
        "data_proj_3d = data.to_numpy() @ P\n",
        "centriods_proj_3d = final_centriods.to_numpy() @ P"
      ],
      "execution_count": null,
      "outputs": []
    },
    {
      "cell_type": "code",
      "metadata": {
        "colab": {
          "base_uri": "https://localhost:8080/"
        },
        "id": "p89uv60NV820",
        "outputId": "040e35e0-35f0-4dbc-bb85-84f3edc920e6"
      },
      "source": [
        "centriods_proj_3d"
      ],
      "execution_count": null,
      "outputs": [
        {
          "output_type": "execute_result",
          "data": {
            "text/plain": [
              "array([[ 2.77042052, -5.05822379, -2.37231541],\n",
              "       [ 6.3418124 , -5.27827683, -2.04815884]])"
            ]
          },
          "metadata": {
            "tags": []
          },
          "execution_count": 31
        }
      ]
    },
    {
      "cell_type": "code",
      "metadata": {
        "colab": {
          "base_uri": "https://localhost:8080/",
          "height": 428
        },
        "id": "BKR5zSJLVRJT",
        "outputId": "0c7484eb-a86d-46f5-825e-5e9e72b4ae00"
      },
      "source": [
        "fig = plt.figure(figsize = (8, 7))\n",
        "ax = plt.axes(projection =\"3d\")\n",
        "ax.scatter3D(data_proj_3d[:, 0], data_proj_3d[:, 1], data_proj_3d[:, 2])\n",
        "ax.scatter3D(centriods_proj_3d[:, 0], centriods_proj_3d[:, 1], centriods_proj_3d[:, 2])"
      ],
      "execution_count": null,
      "outputs": [
        {
          "output_type": "execute_result",
          "data": {
            "text/plain": [
              "<mpl_toolkits.mplot3d.art3d.Path3DCollection at 0x7f3b96942e50>"
            ]
          },
          "metadata": {
            "tags": []
          },
          "execution_count": 32
        },
        {
          "output_type": "display_data",
          "data": {
            "image/png": "[encoded data removed]",
            "text/plain": [
              "<Figure size 576x504 with 1 Axes>"
            ]
          },
          "metadata": {
            "tags": [],
            "needs_background": "light"
          }
        }
      ]
    },
    {
      "cell_type": "code",
      "metadata": {
        "id": "wJ0MCjrcV46O"
      },
      "source": [
        ""
      ],
      "execution_count": null,
      "outputs": []
    },
    {
      "cell_type": "markdown",
      "metadata": {
        "id": "tmGmI1gYEX-N"
      },
      "source": [
        "# Extra Expermentation\n"
      ]
    },
    {
      "cell_type": "code",
      "metadata": {
        "id": "8p1dKhVQEaez"
      },
      "source": [
        "# Compute the dissimilarity of a cluster with respect to the l2 distance\n",
        "def variability(cluster):\n",
        "  mean = np.mean(cluster) # mean/centriod of the cluster\n",
        "  diss = ((np.array(cluster) - mean)**2).sum()\n",
        "  return diss\n",
        "\n",
        "def dissimilarity(clusters_var):\n",
        "  return np.sum(clusters_var)"
      ],
      "execution_count": null,
      "outputs": []
    },
    {
      "cell_type": "code",
      "metadata": {
        "id": "jKTMSUeqKvd7"
      },
      "source": [
        "def K_means(data, iterations=1000, k=3, show_progress=False):\n",
        "  centriods = initlialize_centriods(data, k)\n",
        "  n = data.shape[1]\n",
        "  for i in range(iterations):\n",
        "    dis_df = compute_distnce(data.copy(), centriods)\n",
        "    # print(f\"dis: {dis_df}\")\n",
        "    clusters = assign_clusters(data, dis_df, centriods)\n",
        "    centriods = update_cnetriod(clusters, k, n)\n",
        "    if show_progress:\n",
        "      var = []\n",
        "      for c in clusters:\n",
        "        var.append(variability(clusters[c]))\n",
        "      diss = dissimilarity(var)\n",
        "      print(f\"Iteration: {i+1}, diss={diss}\")\n",
        "      # print(centriods.to_numpy())\n",
        "  return centriods, clusters"
      ],
      "execution_count": null,
      "outputs": []
    },
    {
      "cell_type": "code",
      "metadata": {
        "id": "Gq_2UgerE1Lp"
      },
      "source": [
        "# search for the best K that minimizes the dissimilarity\n",
        "K = np.arange(1, 2)\n",
        "k_dis = []\n",
        "_, clusters = K_means(data, 300, 5, False)"
      ],
      "execution_count": null,
      "outputs": []
    },
    {
      "cell_type": "code",
      "metadata": {
        "id": "Wgno5xoDE5o5"
      },
      "source": [
        ""
      ],
      "execution_count": null,
      "outputs": []
    }
  ]
}