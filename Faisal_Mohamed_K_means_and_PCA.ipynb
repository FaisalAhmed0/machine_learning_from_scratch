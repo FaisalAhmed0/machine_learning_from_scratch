{
  "nbformat": 4,
  "nbformat_minor": 0,
  "metadata": {
    "colab": {
      "name": "Faisal_Mohamed_K_means_and_PCA.ipynb",
      "provenance": [],
      "authorship_tag": "ABX9TyPvuWw/8CG0nihu0vRr2vYz",
      "include_colab_link": true
    },
    "kernelspec": {
      "name": "python3",
      "display_name": "Python 3"
    }
  },
  "cells": [
    {
      "cell_type": "markdown",
      "metadata": {
        "id": "view-in-github",
        "colab_type": "text"
      },
      "source": [
        "<a href=\"https://colab.research.google.com/github/FaisalAhmed0/machine_learning_from_scratch/blob/main/Faisal_Mohamed_K_means_and_PCA.ipynb\" target=\"_parent\"><img src=\"https://colab.research.google.com/assets/colab-badge.svg\" alt=\"Open In Colab\"/></a>"
      ]
    },
    {
      "cell_type": "markdown",
      "metadata": {
        "id": "Z-8d4SHXTy73"
      },
      "source": [
        "This notebook implements K means clustering algorithm and principal components analysis (PCA), using numpy."
      ]
    },
    {
      "cell_type": "markdown",
      "metadata": {
        "id": "0HEC5K68UIm7"
      },
      "source": [
        "# Imports and Data generation."
      ]
    },
    {
      "cell_type": "code",
      "metadata": {
        "id": "IW4DtX46uBSl"
      },
      "source": [
        "import numpy as np\n",
        "import matplotlib.pyplot as plt\n",
        "import pandas as pd\n",
        "from sklearn import datasets\n",
        "from sklearn.datasets import make_classification"
      ],
      "execution_count": 70,
      "outputs": []
    },
    {
      "cell_type": "code",
      "metadata": {
        "id": "opeu6McJXj_C"
      },
      "source": [
        "seed = 42"
      ],
      "execution_count": 71,
      "outputs": []
    },
    {
      "cell_type": "code",
      "metadata": {
        "id": "A09YRSqVWUGA"
      },
      "source": [
        "def generate_data(size):\n",
        "  '''\n",
        "  generate_data(size)\n",
        "  This function generates synthetic data.\n",
        "  size: number of examples in the dataset.\n",
        "  return the dataset as a NumPy array.\n",
        "  '''\n",
        "  X, Y = datasets.make_classification(400, 3, 3, 0, n_classes=4, random_state=seed, n_clusters_per_class=1, class_sep=3)\n",
        "  # plt.scatter(X[:, 0], X[:, 1])\n",
        "  return X"
      ],
      "execution_count": 96,
      "outputs": []
    },
    {
      "cell_type": "code",
      "metadata": {
        "id": "0f7hR2IIuLQG"
      },
      "source": [
        "# Generate data \n",
        "data = pd.DataFrame(generate_data(1000))"
      ],
      "execution_count": 97,
      "outputs": []
    },
    {
      "cell_type": "markdown",
      "metadata": {
        "id": "SLkQIGDxuT0t"
      },
      "source": [
        "# K Means"
      ]
    },
    {
      "cell_type": "code",
      "metadata": {
        "colab": {
          "base_uri": "https://localhost:8080/",
          "height": 204
        },
        "id": "jIZ6guhmuSnV",
        "outputId": "a1b23f60-4e98-4502-932f-78cf7611c969"
      },
      "source": [
        "# print first five rows in the data\n",
        "data.head()"
      ],
      "execution_count": 98,
      "outputs": [
        {
          "output_type": "execute_result",
          "data": {
            "text/html": [
              "<div>\n",
              "<style scoped>\n",
              "    .dataframe tbody tr th:only-of-type {\n",
              "        vertical-align: middle;\n",
              "    }\n",
              "\n",
              "    .dataframe tbody tr th {\n",
              "        vertical-align: top;\n",
              "    }\n",
              "\n",
              "    .dataframe thead th {\n",
              "        text-align: right;\n",
              "    }\n",
              "</style>\n",
              "<table border=\"1\" class=\"dataframe\">\n",
              "  <thead>\n",
              "    <tr style=\"text-align: right;\">\n",
              "      <th></th>\n",
              "      <th>0</th>\n",
              "      <th>1</th>\n",
              "      <th>2</th>\n",
              "    </tr>\n",
              "  </thead>\n",
              "  <tbody>\n",
              "    <tr>\n",
              "      <th>0</th>\n",
              "      <td>2.831332</td>\n",
              "      <td>3.260916</td>\n",
              "      <td>3.233228</td>\n",
              "    </tr>\n",
              "    <tr>\n",
              "      <th>1</th>\n",
              "      <td>3.319735</td>\n",
              "      <td>-4.122222</td>\n",
              "      <td>3.790492</td>\n",
              "    </tr>\n",
              "    <tr>\n",
              "      <th>2</th>\n",
              "      <td>-2.731837</td>\n",
              "      <td>-3.251745</td>\n",
              "      <td>-3.499059</td>\n",
              "    </tr>\n",
              "    <tr>\n",
              "      <th>3</th>\n",
              "      <td>0.831602</td>\n",
              "      <td>4.084436</td>\n",
              "      <td>0.194126</td>\n",
              "    </tr>\n",
              "    <tr>\n",
              "      <th>4</th>\n",
              "      <td>-1.210477</td>\n",
              "      <td>-4.141630</td>\n",
              "      <td>-4.577587</td>\n",
              "    </tr>\n",
              "  </tbody>\n",
              "</table>\n",
              "</div>"
            ],
            "text/plain": [
              "          0         1         2\n",
              "0  2.831332  3.260916  3.233228\n",
              "1  3.319735 -4.122222  3.790492\n",
              "2 -2.731837 -3.251745 -3.499059\n",
              "3  0.831602  4.084436  0.194126\n",
              "4 -1.210477 -4.141630 -4.577587"
            ]
          },
          "metadata": {
            "tags": []
          },
          "execution_count": 98
        }
      ]
    },
    {
      "cell_type": "code",
      "metadata": {
        "id": "SlpbM_yCuarv"
      },
      "source": [
        "# repeat\n",
        "# 1. Initilize centroids\n",
        "# 2. compute distances\n",
        "# 3. Assign to each cluster its data point\n",
        "# 4. update the centrioid"
      ],
      "execution_count": 99,
      "outputs": []
    },
    {
      "cell_type": "code",
      "metadata": {
        "id": "Lh8D8OglvnkG"
      },
      "source": [
        "# 1. Initilize centroids\n",
        "def initlialize_centroids(data, k):\n",
        "  '''\n",
        "  initlialize_centroids(data, k)\n",
        "  This function initializes random centroids by choosing them randomly from the data.\n",
        "  data: dataset as a pandas DataFrame.\n",
        "  k: number of centroids.\n",
        "  return the centroids as DataFrame.\n",
        "  '''\n",
        "  # np.random.seed(seed)\n",
        "  # data size\n",
        "  n = data.shape[0]\n",
        "  # Pick random indices\n",
        "  inds = np.random.choice(n, size=k, replace=False)\n",
        "  # pick the centriods\n",
        "  centriods = data.iloc[inds, :]\n",
        "  return centriods"
      ],
      "execution_count": 100,
      "outputs": []
    },
    {
      "cell_type": "code",
      "metadata": {
        "colab": {
          "base_uri": "https://localhost:8080/",
          "height": 173
        },
        "id": "bNH54Sklwf-e",
        "outputId": "98b23e50-71a6-4380-90e6-3cb641d2b259"
      },
      "source": [
        "# pick three random centriods\n",
        "k = 4\n",
        "centriods = initlialize_centroids(data, k)\n",
        "centriods\n",
        "# plt.scatter(centriods.to_numpy()[:, 0], centriods.to_numpy()[:, 1])"
      ],
      "execution_count": 102,
      "outputs": [
        {
          "output_type": "execute_result",
          "data": {
            "text/html": [
              "<div>\n",
              "<style scoped>\n",
              "    .dataframe tbody tr th:only-of-type {\n",
              "        vertical-align: middle;\n",
              "    }\n",
              "\n",
              "    .dataframe tbody tr th {\n",
              "        vertical-align: top;\n",
              "    }\n",
              "\n",
              "    .dataframe thead th {\n",
              "        text-align: right;\n",
              "    }\n",
              "</style>\n",
              "<table border=\"1\" class=\"dataframe\">\n",
              "  <thead>\n",
              "    <tr style=\"text-align: right;\">\n",
              "      <th></th>\n",
              "      <th>0</th>\n",
              "      <th>1</th>\n",
              "      <th>2</th>\n",
              "    </tr>\n",
              "  </thead>\n",
              "  <tbody>\n",
              "    <tr>\n",
              "      <th>252</th>\n",
              "      <td>-3.352283</td>\n",
              "      <td>-4.643145</td>\n",
              "      <td>4.244378</td>\n",
              "    </tr>\n",
              "    <tr>\n",
              "      <th>394</th>\n",
              "      <td>2.721158</td>\n",
              "      <td>3.008508</td>\n",
              "      <td>2.644193</td>\n",
              "    </tr>\n",
              "    <tr>\n",
              "      <th>263</th>\n",
              "      <td>-1.482004</td>\n",
              "      <td>-1.828489</td>\n",
              "      <td>2.306818</td>\n",
              "    </tr>\n",
              "    <tr>\n",
              "      <th>52</th>\n",
              "      <td>-5.008926</td>\n",
              "      <td>-1.240799</td>\n",
              "      <td>-2.505173</td>\n",
              "    </tr>\n",
              "  </tbody>\n",
              "</table>\n",
              "</div>"
            ],
            "text/plain": [
              "            0         1         2\n",
              "252 -3.352283 -4.643145  4.244378\n",
              "394  2.721158  3.008508  2.644193\n",
              "263 -1.482004 -1.828489  2.306818\n",
              "52  -5.008926 -1.240799 -2.505173"
            ]
          },
          "metadata": {
            "tags": []
          },
          "execution_count": 102
        }
      ]
    },
    {
      "cell_type": "code",
      "metadata": {
        "id": "TU2kiSDRwil3"
      },
      "source": [
        "# 2. compute distances\n",
        "from collections import defaultdict\n",
        "\n",
        "def compute_distnce(data, centroids):\n",
        "  '''\n",
        "  compute_distnce(data, centriods)\n",
        "  This function computes the distance between each point and the centroids.\n",
        "  data: dataset as a pandas DataFrame.\n",
        "  centroids: cluster centroids.\n",
        "  it returns a data frame that contains the point distance from each cluster at each point.\n",
        "  '''\n",
        "  K = centroids.shape[0]\n",
        "  dis_df = pd.DataFrame(columns= [f\"c{i}\" for i in range(1, K+1)])\n",
        "  for k in range(K):\n",
        "    dis_df[f\"c{k+1}\"] = ((data - centroids.iloc[k, :])**2).sum(axis=1)\n",
        "  return dis_df"
      ],
      "execution_count": 103,
      "outputs": []
    },
    {
      "cell_type": "code",
      "metadata": {
        "id": "NFquk8ZAxbOU",
        "colab": {
          "base_uri": "https://localhost:8080/",
          "height": 419
        },
        "outputId": "1f4ef30e-c424-4527-ef87-165629d4d696"
      },
      "source": [
        "dis_df = compute_distnce(data, centriods)\n",
        "dis_df"
      ],
      "execution_count": 104,
      "outputs": [
        {
          "output_type": "execute_result",
          "data": {
            "text/html": [
              "<div>\n",
              "<style scoped>\n",
              "    .dataframe tbody tr th:only-of-type {\n",
              "        vertical-align: middle;\n",
              "    }\n",
              "\n",
              "    .dataframe tbody tr th {\n",
              "        vertical-align: top;\n",
              "    }\n",
              "\n",
              "    .dataframe thead th {\n",
              "        text-align: right;\n",
              "    }\n",
              "</style>\n",
              "<table border=\"1\" class=\"dataframe\">\n",
              "  <thead>\n",
              "    <tr style=\"text-align: right;\">\n",
              "      <th></th>\n",
              "      <th>c1</th>\n",
              "      <th>c2</th>\n",
              "      <th>c3</th>\n",
              "      <th>c4</th>\n",
              "    </tr>\n",
              "  </thead>\n",
              "  <tbody>\n",
              "    <tr>\n",
              "      <th>0</th>\n",
              "      <td>101.733696</td>\n",
              "      <td>0.422810</td>\n",
              "      <td>45.365146</td>\n",
              "      <td>114.664323</td>\n",
              "    </tr>\n",
              "    <tr>\n",
              "      <th>1</th>\n",
              "      <td>44.993187</td>\n",
              "      <td>52.519600</td>\n",
              "      <td>30.519193</td>\n",
              "      <td>117.304577</td>\n",
              "    </tr>\n",
              "    <tr>\n",
              "      <th>2</th>\n",
              "      <td>62.281758</td>\n",
              "      <td>106.665452</td>\n",
              "      <td>37.295949</td>\n",
              "      <td>10.216844</td>\n",
              "    </tr>\n",
              "    <tr>\n",
              "      <th>3</th>\n",
              "      <td>110.080089</td>\n",
              "      <td>10.730872</td>\n",
              "      <td>44.778917</td>\n",
              "      <td>69.756102</td>\n",
              "    </tr>\n",
              "    <tr>\n",
              "      <th>4</th>\n",
              "      <td>82.665919</td>\n",
              "      <td>118.736340</td>\n",
              "      <td>52.819393</td>\n",
              "      <td>27.137931</td>\n",
              "    </tr>\n",
              "    <tr>\n",
              "      <th>...</th>\n",
              "      <td>...</td>\n",
              "      <td>...</td>\n",
              "      <td>...</td>\n",
              "      <td>...</td>\n",
              "    </tr>\n",
              "    <tr>\n",
              "      <th>395</th>\n",
              "      <td>54.445357</td>\n",
              "      <td>37.124500</td>\n",
              "      <td>28.037916</td>\n",
              "      <td>105.101217</td>\n",
              "    </tr>\n",
              "    <tr>\n",
              "      <th>396</th>\n",
              "      <td>54.347533</td>\n",
              "      <td>41.689057</td>\n",
              "      <td>31.430212</td>\n",
              "      <td>115.936905</td>\n",
              "    </tr>\n",
              "    <tr>\n",
              "      <th>397</th>\n",
              "      <td>55.036186</td>\n",
              "      <td>118.375738</td>\n",
              "      <td>37.579447</td>\n",
              "      <td>10.878360</td>\n",
              "    </tr>\n",
              "    <tr>\n",
              "      <th>398</th>\n",
              "      <td>94.451204</td>\n",
              "      <td>0.866607</td>\n",
              "      <td>41.753824</td>\n",
              "      <td>114.958429</td>\n",
              "    </tr>\n",
              "    <tr>\n",
              "      <th>399</th>\n",
              "      <td>5.052310</td>\n",
              "      <td>70.724926</td>\n",
              "      <td>4.944988</td>\n",
              "      <td>35.260588</td>\n",
              "    </tr>\n",
              "  </tbody>\n",
              "</table>\n",
              "<p>400 rows × 4 columns</p>\n",
              "</div>"
            ],
            "text/plain": [
              "             c1          c2         c3          c4\n",
              "0    101.733696    0.422810  45.365146  114.664323\n",
              "1     44.993187   52.519600  30.519193  117.304577\n",
              "2     62.281758  106.665452  37.295949   10.216844\n",
              "3    110.080089   10.730872  44.778917   69.756102\n",
              "4     82.665919  118.736340  52.819393   27.137931\n",
              "..          ...         ...        ...         ...\n",
              "395   54.445357   37.124500  28.037916  105.101217\n",
              "396   54.347533   41.689057  31.430212  115.936905\n",
              "397   55.036186  118.375738  37.579447   10.878360\n",
              "398   94.451204    0.866607  41.753824  114.958429\n",
              "399    5.052310   70.724926   4.944988   35.260588\n",
              "\n",
              "[400 rows x 4 columns]"
            ]
          },
          "metadata": {
            "tags": []
          },
          "execution_count": 104
        }
      ]
    },
    {
      "cell_type": "code",
      "metadata": {
        "id": "XnJEZKvI3N8S"
      },
      "source": [
        "def assign_clusters(data, dis_df, centroids):\n",
        "  '''\n",
        "  assign_clusters(data, dis_df, centroids)\n",
        "  This function assigns a point to each cluster based on the smallest distance to the cluster centroid.\n",
        "  data: dataset as a pandas DataFrame.\n",
        "  dis_df: data frame that contains the point distance from each cluster at each point.\n",
        "  centroids: cluster centroids.\n",
        "  returns a dictionary that contains the points in each cluster.\n",
        "  '''\n",
        "  K = centriods.shape[0]\n",
        "  columns= [f\"c{i}\" for i in range(1, K+1)]\n",
        "  d = {i: v for i, v in zip(range(K), columns)}\n",
        "  argmin = dis_df.to_numpy().argmin(axis=1)\n",
        "  clusters = {k:[] for k in columns}\n",
        "  for i, dis in enumerate(dis_df.to_numpy()):\n",
        "    min_ind = dis.argmin()\n",
        "    # print(min_ind)\n",
        "    point = data.iloc[i]\n",
        "    cluster = d[min_ind]\n",
        "    clusters[cluster].append(point.to_numpy())\n",
        "  # print(clusters)\n",
        "  return clusters"
      ],
      "execution_count": 105,
      "outputs": []
    },
    {
      "cell_type": "code",
      "metadata": {
        "id": "269BlI_S-T9s"
      },
      "source": [
        "clu = assign_clusters(data, dis_df, centriods)"
      ],
      "execution_count": 106,
      "outputs": []
    },
    {
      "cell_type": "code",
      "metadata": {
        "id": "jMsYxXQk3iY2"
      },
      "source": [
        "# 4. update the centrioid\n",
        "def update_cnetriod(clusters, k, n):\n",
        "  '''\n",
        "  update_cnetriod(clusters, k, n).\n",
        "  This function updates the values of the centroids after assigning each point to its corresponding cluster\n",
        "  clusters: a dictionary that contains the points in each cluster.\n",
        "  k: number of centroids.\n",
        "  n: the shape of the data return the updated centroids as DataFrame.\n",
        "  '''\n",
        "  d = {}\n",
        "  for i, cluster in enumerate(clusters):\n",
        "    d[f\"c{i+1}\"] = np.mean(clusters[cluster], axis=0)\n",
        "    # print(clusters[cluster])\n",
        "    # print(d[f\"c{i+1}\"], len(clusters[cluster]))\n",
        "  df = pd.DataFrame(d, columns=None).T\n",
        "  df.columns = [i for i in range(n)]\n",
        "  df.index = [i for i in range(k)]\n",
        "  # print(df)\n",
        "  return df"
      ],
      "execution_count": 107,
      "outputs": []
    },
    {
      "cell_type": "code",
      "metadata": {
        "id": "bO5HBbqm8O9N"
      },
      "source": [
        "def K_means(data, iterations=1000, k=3, show_progress=False):\n",
        "  '''\n",
        "  K_means(data, iterations=1000, k=3, show_progress=False)\n",
        "  This function implements K-means clustring algoithm.\n",
        "  data: dataset as a pandas DataFrame.\n",
        "  iterations: number of training iterations.\n",
        "  k: number of clusters/centriods.\n",
        "  show_progress: print the values of centriods after each iteration.\n",
        "  '''\n",
        "  centriods = initlialize_centroids(data, k)\n",
        "  # print(centriods)\n",
        "  n = data.shape[1]\n",
        "  for i in range(iterations):\n",
        "    dis_df = compute_distnce(data.copy(), centriods)\n",
        "    # print(dis_df)\n",
        "    # print(f\"dis: {dis_df}\")\n",
        "    clusters = assign_clusters(data, dis_df, centriods)\n",
        "    centriods = update_cnetriod(clusters, k, n)\n",
        "    if show_progress:\n",
        "      print(f\"Iteration: {i+1}\")\n",
        "      print(centriods.to_numpy())\n",
        "  return centriods, clusters"
      ],
      "execution_count": 108,
      "outputs": []
    },
    {
      "cell_type": "code",
      "metadata": {
        "id": "cr75_ZtoAfWU"
      },
      "source": [
        "# run K-means algorithm \n",
        "final_centriods, _ = K_means(data, 10, 4, False)"
      ],
      "execution_count": 109,
      "outputs": []
    },
    {
      "cell_type": "code",
      "metadata": {
        "colab": {
          "base_uri": "https://localhost:8080/",
          "height": 282
        },
        "id": "qg37aAHeGZr_",
        "outputId": "c171157d-94a3-4206-da7f-9aaf1ef11e06"
      },
      "source": [
        "# plot the results for the first two dimensions\n",
        "plt.scatter(data.iloc[:, 0], data.iloc[:, 1])\n",
        "plt.scatter(final_centriods.iloc[:, 0], final_centriods.iloc[:, 1])"
      ],
      "execution_count": 110,
      "outputs": [
        {
          "output_type": "execute_result",
          "data": {
            "text/plain": [
              "<matplotlib.collections.PathCollection at 0x7ffa7e6b6d90>"
            ]
          },
          "metadata": {
            "tags": []
          },
          "execution_count": 110
        },
        {
          "output_type": "display_data",
          "data": {
            "image/png": "[encoded data removed]",
            "text/plain": [
              "<Figure size 432x288 with 1 Axes>"
            ]
          },
          "metadata": {
            "tags": [],
            "needs_background": "light"
          }
        }
      ]
    },
    {
      "cell_type": "code",
      "metadata": {
        "colab": {
          "base_uri": "https://localhost:8080/",
          "height": 282
        },
        "id": "dwnr_664u10_",
        "outputId": "03d11cf6-29eb-45cc-9d54-839d7c001adf"
      },
      "source": [
        "# plot the results for the second two dimensions\n",
        "plt.scatter(data.iloc[:, 1], data.iloc[:, 2])\n",
        "plt.scatter(final_centriods.iloc[:, 1], final_centriods.iloc[:, 2])"
      ],
      "execution_count": 112,
      "outputs": [
        {
          "output_type": "execute_result",
          "data": {
            "text/plain": [
              "<matplotlib.collections.PathCollection at 0x7ffa7ea51810>"
            ]
          },
          "metadata": {
            "tags": []
          },
          "execution_count": 112
        },
        {
          "output_type": "display_data",
          "data": {
            "image/png": "[encoded data removed]",
            "text/plain": [
              "<Figure size 432x288 with 1 Axes>"
            ]
          },
          "metadata": {
            "tags": [],
            "needs_background": "light"
          }
        }
      ]
    },
    {
      "cell_type": "markdown",
      "metadata": {
        "id": "IBDb5HoWPMCO"
      },
      "source": [
        "# PCA"
      ]
    },
    {
      "cell_type": "code",
      "metadata": {
        "id": "YgwVteXMPmyg"
      },
      "source": [
        "# PCA\n",
        "# 1. Standarize your data\n",
        "# 2. Compute the covariance matrix\n",
        "# 3. Perform eigen decemposition to extract the k principle components "
      ],
      "execution_count": 114,
      "outputs": []
    },
    {
      "cell_type": "code",
      "metadata": {
        "id": "hsg7Ts3tHL1A"
      },
      "source": [
        "data = data.copy()"
      ],
      "execution_count": 113,
      "outputs": []
    },
    {
      "cell_type": "code",
      "metadata": {
        "id": "1lqw-yulRGkW"
      },
      "source": [
        "# 1. Standarize your data\n",
        "def standardize_data(data):\n",
        "  return (data - data.mean()) / data.std()"
      ],
      "execution_count": 115,
      "outputs": []
    },
    {
      "cell_type": "code",
      "metadata": {
        "id": "hUYhKPVxRvrM"
      },
      "source": [
        "# 2. Compute the covariance matrix\n",
        "def cov_matrix(data):\n",
        "  return data.to_numpy().T @ data.to_numpy()"
      ],
      "execution_count": 116,
      "outputs": []
    },
    {
      "cell_type": "code",
      "metadata": {
        "id": "jduHgvUgSAVS"
      },
      "source": [
        "# 3. Perform eigen decemposition to extract the k principle components \n",
        "def eig_decomp(m):\n",
        "  e, v = np.linalg.eig(m)\n",
        "  return e, v"
      ],
      "execution_count": 117,
      "outputs": []
    },
    {
      "cell_type": "code",
      "metadata": {
        "id": "7cjJR6QhTMv8"
      },
      "source": [
        "def PCA(data, rank):\n",
        "  '''\n",
        "  PCA(data, rank)\n",
        "  This function implements PCA using Eigendecomposition.\n",
        "  return the prjection matrix and the eigenvalues\n",
        "  '''\n",
        "  # data_stand = standardize_data(data)\n",
        "  cov = cov_matrix(data)\n",
        "  e, v = eig_decomp(cov)\n",
        "  P = v[:, :rank]\n",
        "  return P, e"
      ],
      "execution_count": 120,
      "outputs": []
    },
    {
      "cell_type": "code",
      "metadata": {
        "id": "1QP_FWjI2VSe"
      },
      "source": [
        "def PCA_SVD(data, rank):\n",
        "  '''\n",
        "  PCA(data, rank)\n",
        "  This function implements PCA using Singular Value Decomposition (SVD).\n",
        "  return the prjection matrix.\n",
        "  '''\n",
        "  U, D, V = np.linalg.svd(data)\n",
        "  P = V[:,:rank]\n",
        "  return P"
      ],
      "execution_count": 121,
      "outputs": []
    },
    {
      "cell_type": "code",
      "metadata": {
        "id": "teXDpKICUaQB"
      },
      "source": [
        "P = PCA_SVD(data, 2)"
      ],
      "execution_count": 122,
      "outputs": []
    },
    {
      "cell_type": "code",
      "metadata": {
        "id": "_P1f1hGlUeKD",
        "colab": {
          "base_uri": "https://localhost:8080/",
          "height": 282
        },
        "outputId": "2e48e6bb-3292-43d5-e6c8-541d49772b9e"
      },
      "source": [
        "# Using the first two principal components, we will plot the projected data and the centriods from the previous section\n",
        "data_proj = data.to_numpy() @ P\n",
        "centriods_proj = final_centriods.to_numpy() @ P\n",
        "plt.scatter(data_proj[:, 0], data_proj[:, 1])\n",
        "plt.scatter(centriods_proj[:, 0], centriods_proj[:, 1])"
      ],
      "execution_count": 123,
      "outputs": [
        {
          "output_type": "execute_result",
          "data": {
            "text/plain": [
              "<matplotlib.collections.PathCollection at 0x7ffa7eab1f90>"
            ]
          },
          "metadata": {
            "tags": []
          },
          "execution_count": 123
        },
        {
          "output_type": "display_data",
          "data": {
            "image/png": "[encoded data removed]",
            "text/plain": [
              "<Figure size 432x288 with 1 Axes>"
            ]
          },
          "metadata": {
            "tags": [],
            "needs_background": "light"
          }
        }
      ]
    },
    {
      "cell_type": "code",
      "metadata": {
        "colab": {
          "base_uri": "https://localhost:8080/"
        },
        "id": "l0TM8qpJ4ZHH",
        "outputId": "26f7c5f1-daec-4974-a222-ad1ece79f5d7"
      },
      "source": [
        "P = PCA(data, 2)\n",
        "print(P[0])\n",
        "data.shape"
      ],
      "execution_count": 125,
      "outputs": [
        {
          "output_type": "stream",
          "text": [
            "[[-0.69228205  0.72158927]\n",
            " [ 0.51006821  0.48206482]\n",
            " [ 0.51046643  0.4969129 ]]\n"
          ],
          "name": "stdout"
        },
        {
          "output_type": "execute_result",
          "data": {
            "text/plain": [
              "(400, 3)"
            ]
          },
          "metadata": {
            "tags": []
          },
          "execution_count": 125
        }
      ]
    },
    {
      "cell_type": "code",
      "metadata": {
        "colab": {
          "base_uri": "https://localhost:8080/",
          "height": 282
        },
        "id": "kllBMyA-VKN7",
        "outputId": "c71f6b56-1c9a-4d2d-d090-104e872dbb0a"
      },
      "source": [
        "plt.scatter(data_proj[:, 0], data_proj[:, 1])\n",
        "plt.scatter(centriods_proj[:, 0], centriods_proj[:, 1])"
      ],
      "execution_count": 126,
      "outputs": [
        {
          "output_type": "execute_result",
          "data": {
            "text/plain": [
              "<matplotlib.collections.PathCollection at 0x7ffa71791dd0>"
            ]
          },
          "metadata": {
            "tags": []
          },
          "execution_count": 126
        },
        {
          "output_type": "display_data",
          "data": {
            "image/png": "[encoded data removed]",
            "text/plain": [
              "<Figure size 432x288 with 1 Axes>"
            ]
          },
          "metadata": {
            "tags": [],
            "needs_background": "light"
          }
        }
      ]
    },
    {
      "cell_type": "code",
      "metadata": {
        "id": "rosPbwyjVuWN"
      },
      "source": [
        "P, _ = PCA(data, 4)"
      ],
      "execution_count": 134,
      "outputs": []
    },
    {
      "cell_type": "code",
      "metadata": {
        "id": "myYJVq_IVhZM"
      },
      "source": [
        "# Now we will take the first three principal components, and plot the projected data and the centriods from the previous section\n",
        "data_proj_3d = data.to_numpy() @ P\n",
        "centriods_proj_3d = final_centriods.to_numpy() @ P"
      ],
      "execution_count": 135,
      "outputs": []
    },
    {
      "cell_type": "code",
      "metadata": {
        "colab": {
          "base_uri": "https://localhost:8080/"
        },
        "id": "p89uv60NV820",
        "outputId": "23055963-6aec-4130-9088-d45880c0f8fa"
      },
      "source": [
        "centriods_proj_3d"
      ],
      "execution_count": 136,
      "outputs": [
        {
          "output_type": "execute_result",
          "data": {
            "text/plain": [
              "array([[ 2.20069047, -2.2870691 ,  4.37486383],\n",
              "       [ 1.03010593,  5.12276907,  0.02633727],\n",
              "       [-2.04502912,  2.19068235,  4.25753833],\n",
              "       [-1.08381011, -5.1439943 ,  0.0823606 ]])"
            ]
          },
          "metadata": {
            "tags": []
          },
          "execution_count": 136
        }
      ]
    },
    {
      "cell_type": "code",
      "metadata": {
        "colab": {
          "base_uri": "https://localhost:8080/",
          "height": 428
        },
        "id": "BKR5zSJLVRJT",
        "outputId": "e80d03d6-7218-4062-e22c-9ee6404d4c62"
      },
      "source": [
        "fig = plt.figure(figsize = (8, 7))\n",
        "ax = plt.axes(projection =\"3d\")\n",
        "ax.scatter3D(data_proj_3d[:, 0], data_proj_3d[:, 1], data_proj_3d[:, 2])\n",
        "ax.scatter3D(centriods_proj_3d[:, 0], centriods_proj_3d[:, 1], centriods_proj_3d[:, 2])"
      ],
      "execution_count": 137,
      "outputs": [
        {
          "output_type": "execute_result",
          "data": {
            "text/plain": [
              "<mpl_toolkits.mplot3d.art3d.Path3DCollection at 0x7ffa71646ad0>"
            ]
          },
          "metadata": {
            "tags": []
          },
          "execution_count": 137
        },
        {
          "output_type": "display_data",
          "data": {
            "image/png": "[encoded data removed]",
            "text/plain": [
              "<Figure size 576x504 with 1 Axes>"
            ]
          },
          "metadata": {
            "tags": [],
            "needs_background": "light"
          }
        }
      ]
    }
  ]
}