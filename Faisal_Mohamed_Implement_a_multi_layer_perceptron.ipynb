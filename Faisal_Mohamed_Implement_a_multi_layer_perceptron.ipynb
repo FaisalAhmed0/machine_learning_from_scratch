{
  "nbformat": 4,
  "nbformat_minor": 0,
  "metadata": {
    "colab": {
      "name": "Faisal_Mohamed_Implement a multi-layer perceptron.ipynb",
      "provenance": [],
      "collapsed_sections": [],
      "authorship_tag": "ABX9TyNRB0HV2ca+fzJORqJWrfwd",
      "include_colab_link": true
    },
    "kernelspec": {
      "name": "python3",
      "display_name": "Python 3"
    },
    "widgets": {
      "application/vnd.jupyter.widget-state+json": {
        "dc0de4f0404f40b5a428f754fc105008": {
          "model_module": "@jupyter-widgets/controls",
          "model_name": "HBoxModel",
          "state": {
            "_view_name": "HBoxView",
            "_dom_classes": [],
            "_model_name": "HBoxModel",
            "_view_module": "@jupyter-widgets/controls",
            "_model_module_version": "1.5.0",
            "_view_count": null,
            "_view_module_version": "1.5.0",
            "box_style": "",
            "layout": "IPY_MODEL_562b7cff1b764902a05039f3744a0493",
            "_model_module": "@jupyter-widgets/controls",
            "children": [
              "IPY_MODEL_4e88883a948d4aa3815fd9d8d0c63ff0",
              "IPY_MODEL_29cf9c6405344a2986dd97967964b7b6"
            ]
          }
        },
        "562b7cff1b764902a05039f3744a0493": {
          "model_module": "@jupyter-widgets/base",
          "model_name": "LayoutModel",
          "state": {
            "_view_name": "LayoutView",
            "grid_template_rows": null,
            "right": null,
            "justify_content": null,
            "_view_module": "@jupyter-widgets/base",
            "overflow": null,
            "_model_module_version": "1.2.0",
            "_view_count": null,
            "flex_flow": null,
            "width": null,
            "min_width": null,
            "border": null,
            "align_items": null,
            "bottom": null,
            "_model_module": "@jupyter-widgets/base",
            "top": null,
            "grid_column": null,
            "overflow_y": null,
            "overflow_x": null,
            "grid_auto_flow": null,
            "grid_area": null,
            "grid_template_columns": null,
            "flex": null,
            "_model_name": "LayoutModel",
            "justify_items": null,
            "grid_row": null,
            "max_height": null,
            "align_content": null,
            "visibility": null,
            "align_self": null,
            "height": null,
            "min_height": null,
            "padding": null,
            "grid_auto_rows": null,
            "grid_gap": null,
            "max_width": null,
            "order": null,
            "_view_module_version": "1.2.0",
            "grid_template_areas": null,
            "object_position": null,
            "object_fit": null,
            "grid_auto_columns": null,
            "margin": null,
            "display": null,
            "left": null
          }
        },
        "4e88883a948d4aa3815fd9d8d0c63ff0": {
          "model_module": "@jupyter-widgets/controls",
          "model_name": "FloatProgressModel",
          "state": {
            "_view_name": "ProgressView",
            "style": "IPY_MODEL_b30811d6c5304adfb96320b82d3dc33e",
            "_dom_classes": [],
            "description": "",
            "_model_name": "FloatProgressModel",
            "bar_style": "success",
            "max": 170498071,
            "_view_module": "@jupyter-widgets/controls",
            "_model_module_version": "1.5.0",
            "value": 170498071,
            "_view_count": null,
            "_view_module_version": "1.5.0",
            "orientation": "horizontal",
            "min": 0,
            "description_tooltip": null,
            "_model_module": "@jupyter-widgets/controls",
            "layout": "IPY_MODEL_b475c382d8ba4ba68a4e6e1e422af673"
          }
        },
        "29cf9c6405344a2986dd97967964b7b6": {
          "model_module": "@jupyter-widgets/controls",
          "model_name": "HTMLModel",
          "state": {
            "_view_name": "HTMLView",
            "style": "IPY_MODEL_635b3b5532894711bf2db5b8feb85f16",
            "_dom_classes": [],
            "description": "",
            "_model_name": "HTMLModel",
            "placeholder": "​",
            "_view_module": "@jupyter-widgets/controls",
            "_model_module_version": "1.5.0",
            "value": " 170499072/? [00:03&lt;00:00, 54941356.68it/s]",
            "_view_count": null,
            "_view_module_version": "1.5.0",
            "description_tooltip": null,
            "_model_module": "@jupyter-widgets/controls",
            "layout": "IPY_MODEL_6ec3c051adc24ee589a56f8b70bfb552"
          }
        },
        "b30811d6c5304adfb96320b82d3dc33e": {
          "model_module": "@jupyter-widgets/controls",
          "model_name": "ProgressStyleModel",
          "state": {
            "_view_name": "StyleView",
            "_model_name": "ProgressStyleModel",
            "description_width": "initial",
            "_view_module": "@jupyter-widgets/base",
            "_model_module_version": "1.5.0",
            "_view_count": null,
            "_view_module_version": "1.2.0",
            "bar_color": null,
            "_model_module": "@jupyter-widgets/controls"
          }
        },
        "b475c382d8ba4ba68a4e6e1e422af673": {
          "model_module": "@jupyter-widgets/base",
          "model_name": "LayoutModel",
          "state": {
            "_view_name": "LayoutView",
            "grid_template_rows": null,
            "right": null,
            "justify_content": null,
            "_view_module": "@jupyter-widgets/base",
            "overflow": null,
            "_model_module_version": "1.2.0",
            "_view_count": null,
            "flex_flow": null,
            "width": null,
            "min_width": null,
            "border": null,
            "align_items": null,
            "bottom": null,
            "_model_module": "@jupyter-widgets/base",
            "top": null,
            "grid_column": null,
            "overflow_y": null,
            "overflow_x": null,
            "grid_auto_flow": null,
            "grid_area": null,
            "grid_template_columns": null,
            "flex": null,
            "_model_name": "LayoutModel",
            "justify_items": null,
            "grid_row": null,
            "max_height": null,
            "align_content": null,
            "visibility": null,
            "align_self": null,
            "height": null,
            "min_height": null,
            "padding": null,
            "grid_auto_rows": null,
            "grid_gap": null,
            "max_width": null,
            "order": null,
            "_view_module_version": "1.2.0",
            "grid_template_areas": null,
            "object_position": null,
            "object_fit": null,
            "grid_auto_columns": null,
            "margin": null,
            "display": null,
            "left": null
          }
        },
        "635b3b5532894711bf2db5b8feb85f16": {
          "model_module": "@jupyter-widgets/controls",
          "model_name": "DescriptionStyleModel",
          "state": {
            "_view_name": "StyleView",
            "_model_name": "DescriptionStyleModel",
            "description_width": "",
            "_view_module": "@jupyter-widgets/base",
            "_model_module_version": "1.5.0",
            "_view_count": null,
            "_view_module_version": "1.2.0",
            "_model_module": "@jupyter-widgets/controls"
          }
        },
        "6ec3c051adc24ee589a56f8b70bfb552": {
          "model_module": "@jupyter-widgets/base",
          "model_name": "LayoutModel",
          "state": {
            "_view_name": "LayoutView",
            "grid_template_rows": null,
            "right": null,
            "justify_content": null,
            "_view_module": "@jupyter-widgets/base",
            "overflow": null,
            "_model_module_version": "1.2.0",
            "_view_count": null,
            "flex_flow": null,
            "width": null,
            "min_width": null,
            "border": null,
            "align_items": null,
            "bottom": null,
            "_model_module": "@jupyter-widgets/base",
            "top": null,
            "grid_column": null,
            "overflow_y": null,
            "overflow_x": null,
            "grid_auto_flow": null,
            "grid_area": null,
            "grid_template_columns": null,
            "flex": null,
            "_model_name": "LayoutModel",
            "justify_items": null,
            "grid_row": null,
            "max_height": null,
            "align_content": null,
            "visibility": null,
            "align_self": null,
            "height": null,
            "min_height": null,
            "padding": null,
            "grid_auto_rows": null,
            "grid_gap": null,
            "max_width": null,
            "order": null,
            "_view_module_version": "1.2.0",
            "grid_template_areas": null,
            "object_position": null,
            "object_fit": null,
            "grid_auto_columns": null,
            "margin": null,
            "display": null,
            "left": null
          }
        }
      }
    }
  },
  "cells": [
    {
      "cell_type": "markdown",
      "metadata": {
        "id": "view-in-github",
        "colab_type": "text"
      },
      "source": [
        "<a href=\"https://colab.research.google.com/github/FaisalAhmed0/machine_learning_from_scratch/blob/main/Faisal_Mohamed_Implement_a_multi_layer_perceptron.ipynb\" target=\"_parent\"><img src=\"https://colab.research.google.com/assets/colab-badge.svg\" alt=\"Open In Colab\"/></a>"
      ]
    },
    {
      "cell_type": "markdown",
      "metadata": {
        "id": "hPi72LuDfx1v"
      },
      "source": [
        "# Nueral Networks (MLP)\n",
        "This notebook implemenets a single hidden layer neural network from the scratch usng only pytorch vector operations, optimizationn is done with batch gradient descent"
      ]
    },
    {
      "cell_type": "markdown",
      "metadata": {
        "id": "TzuMF2GGgEsQ"
      },
      "source": [
        "## Data Downloading and shape adjustments"
      ]
    },
    {
      "cell_type": "code",
      "metadata": {
        "id": "o4_UUE-NG4xG"
      },
      "source": [
        "import torch\n",
        "from torchvision import transforms\n",
        "from torchvision import datasets\n",
        "import matplotlib.pyplot as plt\n",
        "import numpy as np\n",
        "RANDOM_SEED = 1\n",
        "\n",
        "def convert_to_one_hot_labels(input, target):\n",
        "    tmp = input.new_zeros(target.size(0), target.max() + 1)\n",
        "    tmp.scatter_(1, target.view(-1, 1), 1.0)\n",
        "    return tmp\n",
        "\n",
        "def load_data(cifar = None, one_hot_labels = False, normalize = False, flatten = True, data_dir=\"./\"):\n",
        "    if cifar is not None and cifar:\n",
        "        print('* Using CIFAR')\n",
        "        cifar_train_set = datasets.CIFAR10(data_dir + '/cifar10/', train = True, download = True, transform = transforms.Normalize(mean=[0.485, 0.456, 0.406], std=[0.229, 0.224, 0.225]))\n",
        "        cifar_test_set = datasets.CIFAR10(data_dir + '/cifar10/', train = False, download = True)\n",
        "\n",
        "        train_input = torch.from_numpy(cifar_train_set.data)\n",
        "        train_input = train_input.transpose(3, 1).transpose(2, 3).float()\n",
        "        train_target = torch.tensor(cifar_train_set.targets, dtype = torch.int64)\n",
        "\n",
        "        test_input = torch.from_numpy(cifar_test_set.data).float()\n",
        "        test_input = test_input.transpose(3, 1).transpose(2, 3).float()\n",
        "        test_target = torch.tensor(cifar_test_set.targets, dtype = torch.int64)\n",
        "\n",
        "    else:\n",
        "        print('* Using MNIST')\n",
        "        mnist_train_set = datasets.MNIST('./', train = True, download = True)\n",
        "        mnist_test_set = datasets.MNIST('./', train = False, download = True)\n",
        "\n",
        "        train_input = mnist_train_set.data.view(-1, 1, 28, 28).float()\n",
        "        train_target = mnist_train_set.targets\n",
        "        test_input = mnist_test_set.data.view(-1, 1, 28, 28).float()\n",
        "        test_target = mnist_test_set.targets\n",
        "\n",
        "    train_input = train_input.narrow(0, 0, 1000)\n",
        "    train_target = train_target.narrow(0, 0, 1000)\n",
        "    test_input = test_input.narrow(0, 0, 1000)\n",
        "    test_target = test_target.narrow(0, 0, 1000)\n",
        "\n",
        "    if flatten:\n",
        "        train_input = train_input.clone().reshape(train_input.size(0), -1)\n",
        "        test_input = test_input.clone().reshape(test_input.size(0), -1)\n",
        "\n",
        "    print('** Use {:d} train and {:d} test samples'.format(train_input.size(0), test_input.size(0)))\n",
        "\n",
        "    if one_hot_labels:\n",
        "        train_target = convert_to_one_hot_labels(train_input, train_target)\n",
        "        test_target = convert_to_one_hot_labels(test_input, test_target)\n",
        "\n",
        "    if normalize:\n",
        "        mu, std = train_input.mean(), train_input.std()\n",
        "        train_input.sub_(mu).div_(std)\n",
        "        test_input.sub_(mu).div_(std)\n",
        "\n",
        "    return train_input, train_target, test_input, test_target\n",
        "\n",
        "######################################################################\n",
        "\n",
        "def mnist_to_pairs(nb, input, target):\n",
        "    input = torch.functional.F.avg_pool2d(input, kernel_size = 2)\n",
        "    a = torch.randperm(input.size(0))\n",
        "    a = a[:2 * nb].view(nb, 2)\n",
        "    input = torch.cat((input[a[:, 0]], input[a[:, 1]]), 1)\n",
        "    classes = target[a]\n",
        "    target = (classes[:, 0] <= classes[:, 1]).long()\n",
        "    return input, target, classes\n",
        "\n",
        "######################################################################\n",
        "\n",
        "def generate_pair_sets(nb):\n",
        "    if args.data_dir is not None:\n",
        "        data_dir = args.data_dir\n",
        "    else:\n",
        "        data_dir = os.environ.get('PYTORCH_DATA_DIR')\n",
        "        if data_dir is None:\n",
        "            data_dir = './data'\n",
        "\n",
        "    train_set = datasets.MNIST(data_dir + '/mnist/', train = True, download = True)\n",
        "    train_input = train_set.data.view(-1, 1, 28, 28).float()\n",
        "    train_target = train_set.targets\n",
        "\n",
        "    test_set = datasets.MNIST(data_dir + '/mnist/', train = False, download = True)\n",
        "    test_input = test_set.data.view(-1, 1, 28, 28).float()\n",
        "    test_target = test_set.targets\n",
        "\n",
        "    return mnist_to_pairs(nb, train_input, train_target) + \\\n",
        "           mnist_to_pairs(nb, test_input, test_target)\n",
        "\n",
        "######################################################################"
      ],
      "execution_count": null,
      "outputs": []
    },
    {
      "cell_type": "code",
      "metadata": {
        "colab": {
          "base_uri": "https://localhost:8080/",
          "height": 153,
          "referenced_widgets": [
            "dc0de4f0404f40b5a428f754fc105008",
            "562b7cff1b764902a05039f3744a0493",
            "4e88883a948d4aa3815fd9d8d0c63ff0",
            "29cf9c6405344a2986dd97967964b7b6",
            "b30811d6c5304adfb96320b82d3dc33e",
            "b475c382d8ba4ba68a4e6e1e422af673",
            "635b3b5532894711bf2db5b8feb85f16",
            "6ec3c051adc24ee589a56f8b70bfb552"
          ]
        },
        "id": "5C56nyZcG97O",
        "outputId": "ebfca67b-f469-4179-ebf8-552e207e4594"
      },
      "source": [
        "# Load the CIFAR datasey\n",
        "train_input, train_target, test_input, test_target = load_data(True, True, True, True)"
      ],
      "execution_count": null,
      "outputs": [
        {
          "output_type": "stream",
          "text": [
            "* Using CIFAR\n",
            "Downloading https://www.cs.toronto.edu/~kriz/cifar-10-python.tar.gz to .//cifar10/cifar-10-python.tar.gz\n"
          ],
          "name": "stdout"
        },
        {
          "output_type": "display_data",
          "data": {
            "application/vnd.jupyter.widget-view+json": {
              "model_id": "dc0de4f0404f40b5a428f754fc105008",
              "version_minor": 0,
              "version_major": 2
            },
            "text/plain": [
              "HBox(children=(FloatProgress(value=0.0, max=170498071.0), HTML(value='')))"
            ]
          },
          "metadata": {
            "tags": []
          }
        },
        {
          "output_type": "stream",
          "text": [
            "\n",
            "Extracting .//cifar10/cifar-10-python.tar.gz to .//cifar10/\n",
            "Files already downloaded and verified\n",
            "** Use 1000 train and 1000 test samples\n"
          ],
          "name": "stdout"
        }
      ]
    },
    {
      "cell_type": "code",
      "metadata": {
        "id": "CHVt_apEFZNn",
        "colab": {
          "base_uri": "https://localhost:8080/"
        },
        "outputId": "9391445c-5c4d-4c55-9df5-d76a16743ec1"
      },
      "source": [
        "# sample size\n",
        "train_input.shape"
      ],
      "execution_count": null,
      "outputs": [
        {
          "output_type": "execute_result",
          "data": {
            "text/plain": [
              "torch.Size([1000, 3072])"
            ]
          },
          "metadata": {
            "tags": []
          },
          "execution_count": 8
        }
      ]
    },
    {
      "cell_type": "markdown",
      "metadata": {
        "id": "S80ss8iTgPAH"
      },
      "source": [
        "## Implementing nerual networks methods"
      ]
    },
    {
      "cell_type": "markdown",
      "metadata": {
        "id": "xA9hf50yKQc7"
      },
      "source": [
        "In this task we will use the mean square error \\\\\n",
        "\\begin{equation}\n",
        "MSE = \\frac{1}{N} \\sum_i^N (\\hat{y}_i - y_i)^2\n",
        "\\end{equation}"
      ]
    },
    {
      "cell_type": "code",
      "metadata": {
        "id": "O-3FWJI0MCmN"
      },
      "source": [
        "# Loss Function and its dervative\n",
        "def loss(predictions, targets):\n",
        "  '''\n",
        "  loss(v, t)\n",
        "  This is the mean square error for regression problems.\n",
        "  predictions: predicted values generated by the network. \n",
        "  targets: the ground truth targets\n",
        "  '''\n",
        "  return ((predictions - targets)**2).mean()\n",
        "\n",
        "def dloss(predictions, targets):\n",
        "  '''\n",
        "  dloss(predictions, targets)\n",
        "  This is the derivative of mean square error for regression problems.\n",
        "  predictions: predicted values generated by the network. \n",
        "  targets: the ground truth targets\n",
        "  '''\n",
        "  return (-2*(predictions - targets)).mean()"
      ],
      "execution_count": null,
      "outputs": []
    },
    {
      "cell_type": "code",
      "metadata": {
        "id": "N-OSgydzVPXb"
      },
      "source": [
        "# Initilize the network parameters\n",
        "def initlize_parameters(n_input, n_hidden, n_output, random_state=RANDOM_SEED):\n",
        "  '''\n",
        "  initlize_parameters(n_input, n_hidden, n_output, random_state=RANDOM_SEED)\n",
        "  This function initializes the weights and biases of a single layer neural network randomly from a normal distribution with zero mean and 10^-6 std.\n",
        "  n_input: number of dimensions of the input.\n",
        "  n_hidden: number of units of the hidden layer.\n",
        "  n_output: number of dimensions of the output.\n",
        "  random_state: random seed.\n",
        "  Return  w1, b1, w2, b2.\n",
        "  '''\n",
        "  torch.manual_seed(RANDOM_SEED)\n",
        "  w1 = torch.normal(0, 1e-6, size=(n_hidden, n_input))\n",
        "  b1 = torch.normal(0, 1e-6, size=(n_hidden, 1))\n",
        "  w2 = torch.normal(0, 1e-6, size=(n_output, n_hidden))\n",
        "  b2 = torch.normal(0, 1e-6, size=(n_output, 1))\n",
        "  return w1, b1, w2, b2"
      ],
      "execution_count": null,
      "outputs": []
    },
    {
      "cell_type": "code",
      "metadata": {
        "id": "kN57qaU9M9vm"
      },
      "source": [
        "# Forward Pass\n",
        "def forward_pass(w1, b1, w2, b2, x):\n",
        "  '''\n",
        "  This function performs the forward pass given the weight and biases of each layer with the input.\n",
        "  w1: weights of the hidden layer.\n",
        "  b1: biases of the hidden layer.\n",
        "  w2: weights of the output layer.\n",
        "  b2: biases of the output layer.\n",
        "  return a0, z1, a1, z2, a2\n",
        "  a: the layer activation.\n",
        "  z: the result of the weights multiplication and adding the bias.\n",
        "  '''\n",
        "  a0 = x\n",
        "  z1 = w1 @ a0 + b1\n",
        "  a1 = tanh(z1)\n",
        "  z2 = w2 @ a1 + b2\n",
        "  a2 = tanh(z2)\n",
        "  return a0, z1, a1, z2, a2\n",
        "\n",
        "# Gradient calculations\n",
        "def compute_gradient(y_hat, y, w1, b1, w2, b2, a0, z1, a1, z2, a2):\n",
        "  '''\n",
        "  compute_gradient(y_hat, y, w1, b1, w2, b2, a0, z1, a1, z2, a2)\n",
        "  This function computes the gradient with backpropagation.\n",
        "  y_hat: network prediction.\n",
        "  y: ground target.\n",
        "  w1: weights of the hidden layer.\n",
        "  b1: biases of the hidden layer.\n",
        "  w2: weights of the output layer.\n",
        "  b2: biases of the output layer.\n",
        "  a0: input value.\n",
        "  z1: the result of the weights multiplication and adding the bias in the first hidden layer.\n",
        "  a1: activation of the hidden layer.\n",
        "  a2: activation of the output layer.\n",
        "  z2: the result of the weights multiplication and adding the bias in the output layer.\n",
        "  return a grad dictionary that contains the gradient of weights and biases of all layers.\n",
        "  '''\n",
        "  m = y.shape[1]\n",
        "  da2 = 2*a2 - y_train\n",
        "  dz2 = da2 * dtanh(z2)\n",
        "  dw2 = (1/m) * dz2 @ a1.t()\n",
        "  db2 = (1/m) * torch.sum(dz2, axis=1, keepdims=True)\n",
        "\n",
        "  da1 = w2.t() @ dz2\n",
        "  dz1 = da1 * dtanh(z1)\n",
        "  dw1 = (1/m) * dz1 @ a0.t()\n",
        "  db1 = (1/m) * torch.sum(dz1, axis=1, keepdims=True)\n",
        "\n",
        "  grads = {}\n",
        "  grads['w1'] = dw1\n",
        "  grads['b1'] = db1\n",
        "  grads['w2'] = dw2\n",
        "  grads['b2'] = db2\n",
        "  return grads\n",
        "\n",
        "\n",
        "def backward_pass(w1, b1, w2, b2, grads, lr=0.1):\n",
        "  '''\n",
        "  backward_pass(w1, b1, w2, b2, grads, lr=0.1)\n",
        "  This function updates the weights and biases with gradient descent.\n",
        "  w1: weights of the hidden layer.\n",
        "  b1: biases of the hidden layer.\n",
        "  w2: weights of the output layer.\n",
        "  b2: biases of the output layer.\n",
        "  grads: a dictionary that contains the gradient of weights and biases of all layers.\n",
        "  lr: learning rate.\n",
        "  return w1, b1, w2, b2\n",
        "  '''\n",
        "  w1 = w1 - lr * grads['w1']\n",
        "  b1 = b1 - lr * grads['b1']\n",
        "  w2 = w2 - lr * grads['w2']\n",
        "  b2 = b2 - lr * grads['b2']\n",
        "  return w1, b1, w2, b2\n",
        "  \n"
      ],
      "execution_count": null,
      "outputs": []
    },
    {
      "cell_type": "code",
      "metadata": {
        "id": "zXdBsgpMRhgw"
      },
      "source": [
        "X_train = train_input.t() # Take the transpose to work the neural net notation (d, number of examples)\n",
        "X_test = test_input.t() # Take the transpose to work the neural net notation (d, number of examples)\n",
        "y_train = train_target.t() * 0.9 # multiply by 0.9 so that the label are in the same of tanh function\n",
        "y_test = test_target.t() * 0.9  # multiply by 0.9 so that the label are in the same of tanh function\n",
        "\n",
        "# Initlize parameters values.\n",
        "w1, b1, w2, b2 = initlize_parameters(3072, 50, 10)\n",
        "# loss list to plot the loss with each epoch.\n",
        "losses = []\n",
        "\n",
        "# 1000 epoch\n",
        "for i in range(1000):\n",
        "  # pass the input forward through the network.\n",
        "  a0, z1, a1, z2, a2 = forward_pass(w1, b1, w2, b2, X_train)\n",
        "  # compute the gradients\n",
        "  grads = compute_gradient(a2, y_train, w1, b1, w2, b2, a0, z1, a1, z2, a2)\n",
        "  # update the weights\n",
        "  w1, b1, w2, b2 = backward_pass(w1, b1, w2, b2, grads, lr=0.1/m)\n",
        "  # append the loss to the list\n",
        "  losses.append(loss(a2, y_train))"
      ],
      "execution_count": null,
      "outputs": []
    },
    {
      "cell_type": "code",
      "metadata": {
        "colab": {
          "base_uri": "https://localhost:8080/",
          "height": 279
        },
        "id": "8xbhf0i9JVD4",
        "outputId": "63d6ebe9-993b-4825-c044-ebfc362ddbf9"
      },
      "source": [
        "# plot the learning error.\n",
        "plt.plot(losses)\n",
        "plt.xlabel(\"Iteration\")\n",
        "plt.ylabel(\"MSE\")\n",
        "plt.show()"
      ],
      "execution_count": null,
      "outputs": [
        {
          "output_type": "display_data",
          "data": {
            "image/png": "[encoded data removed]",
            "text/plain": [
              "<Figure size 432x288 with 1 Axes>"
            ]
          },
          "metadata": {
            "tags": [],
            "needs_background": "light"
          }
        }
      ]
    },
    {
      "cell_type": "code",
      "metadata": {
        "colab": {
          "base_uri": "https://localhost:8080/"
        },
        "id": "AjapRFycChTj",
        "outputId": "3bd41b35-2bf1-4bee-c0e3-97463af47105"
      },
      "source": [
        "# Training error\n",
        "print(f\"Training error = {losses[-1]*100}%\")\n",
        "# Testing error\n",
        "test_preds = forward_pass(w1, b1, w2, b2, X_test)[-1]\n",
        "test_loss = loss(test_preds, y_test)\n",
        "print(f\"Testing error = {test_loss*100}%\")"
      ],
      "execution_count": null,
      "outputs": [
        {
          "output_type": "stream",
          "text": [
            "Training error = 7.959237098693848%\n",
            "Testing error = 7.959589958190918%\n"
          ],
          "name": "stdout"
        }
      ]
    },
    {
      "cell_type": "markdown",
      "metadata": {
        "id": "WtX5R2A9Er4x"
      },
      "source": [
        "## Putting all methods in a single class"
      ]
    },
    {
      "cell_type": "code",
      "metadata": {
        "id": "MRMVsACXkM3m"
      },
      "source": [
        "class Network:\n",
        "  def __init__(self, nn_inputs, nn_hidden, n_outputs, lr=0.1, iterations=500):\n",
        "    self.nn_inputs = nn_inputs\n",
        "    self.nn_hidden = nn_hidden\n",
        "    self.nn_outputs = n_outputs\n",
        "    self.lr = lr\n",
        "    self.iterations = iterations\n",
        "    # initilize parameters\n",
        "    self.initlize_parameters()\n",
        "\n",
        "  def __call__(self, X):\n",
        "    return self.forward_pass(X)\n",
        "\n",
        "  def initlize_parameters(self):\n",
        "    '''\n",
        "    initlize_parameters(n_input, n_hidden, n_output, random_state=RANDOM_SEED)\n",
        "    This function initializes the weights and biases of a single layer neural network randomly from a normal distribution with zero mean and 10^-6 std.\n",
        "    n_input: number of dimensions of the input.\n",
        "    n_hidden: number of units of the hidden layer.\n",
        "    n_output: number of dimensions of the output.\n",
        "    random_state: random seed.\n",
        "    Return  w1, b1, w2, b2.\n",
        "    '''\n",
        "    torch.manual_seed(RANDOM_SEED)\n",
        "    self.w1 = torch.randn(self.nn_hidden, self.nn_inputs)\n",
        "    self.b1 = torch.randn(self.nn_hidden, 1)\n",
        "    self.w2 = torch.randn(self.nn_outputs, self.nn_hidden)\n",
        "    self.b2 = torch.randn(self.nn_outputs, 1)\n",
        "\n",
        "  def forward_pass(self, X):\n",
        "    '''\n",
        "    This function performs the forward pass given the weight and biases of each layer with the input.\n",
        "    w1: weights of the hidden layer.\n",
        "    b1: biases of the hidden layer.\n",
        "    w2: weights of the output layer.\n",
        "    b2: biases of the output layer.\n",
        "    return a0, z1, a1, z2, a2\n",
        "    a: the layer activation.\n",
        "    z: the result of the weights multiplication and adding the bias.\n",
        "    '''\n",
        "    self.a0 = X\n",
        "    self.z1 = self.w1 @ self.a0 + self.b1\n",
        "    self.a1 = self.tanh(self.z1)\n",
        "    self.z2 = self.w2 @ self.a1 + self.b2\n",
        "    self.a2 = self.tanh(self.z2)\n",
        "    return self.a2\n",
        "\n",
        "  # Gradient calculations\n",
        "  def compute_gradient(self, y_train):\n",
        "    '''\n",
        "    compute_gradient(y_hat, y, w1, b1, w2, b2, a0, z1, a1, z2, a2)\n",
        "    This function computes the gradient with backpropagation.\n",
        "    y_hat: network prediction.\n",
        "    y: ground target.\n",
        "    w1: weights of the hidden layer.\n",
        "    b1: biases of the hidden layer.\n",
        "    w2: weights of the output layer.\n",
        "    b2: biases of the output layer.\n",
        "    a0: input value.\n",
        "    z1: the result of the weights multiplication and adding the bias in the first hidden layer.\n",
        "    a1: activation of the hidden layer.\n",
        "    a2: activation of the output layer.\n",
        "    z2: the result of the weights multiplication and adding the bias in the output layer.\n",
        "    return a grad dictionary that contains the gradient of weights and biases of all layers.\n",
        "    '''\n",
        "    m = 1000\n",
        "    da2 = 2*self.a2 - y_train\n",
        "    dz2 = da2 * self.dtanh(self.z2)\n",
        "    dw2 = (1/m) * dz2 @ self.a1.t()\n",
        "    db2 = (1/m) * torch.sum(dz2, axis=1, keepdims=True)\n",
        "\n",
        "    da1 = self.w2.t() @ dz2\n",
        "    dz1 = da1 * self.dtanh(self.z1)\n",
        "    dw1 = (1/m) * dz1 @ self.a0.t()\n",
        "    db1 = (1/m) * torch.sum(dz1, axis=1, keepdims=True)\n",
        "\n",
        "    grads = {}\n",
        "    grads['w1'] = dw1\n",
        "    grads['b1'] = db1\n",
        "    grads['w2'] = dw2\n",
        "    grads['b2'] = db2\n",
        "    self.grads = grads\n",
        "\n",
        "  def backward_pass(self):\n",
        "    '''\n",
        "    backward_pass(w1, b1, w2, b2, grads, lr=0.1)\n",
        "    This function updates the weights and biases with gradient descent.\n",
        "    w1: weights of the hidden layer.\n",
        "    b1: biases of the hidden layer.\n",
        "    w2: weights of the output layer.\n",
        "    b2: biases of the output layer.\n",
        "    grads: a dictionary that contains the gradient of weights and biases of all layers.\n",
        "    lr: learning rate.\n",
        "    return w1, b1, w2, b2\n",
        "    '''\n",
        "    self.w1 = self.w1 - self.lr * self.grads['w1']\n",
        "    self.b1 = self.b1 - self.lr * self.grads['b1']\n",
        "    self.w2 = self.w2 - self.lr * self.grads['w2']\n",
        "    self.b2 = self.b2 - self.lr * self.grads['b2']\n",
        "\n",
        "  def fit(self, X, Y):\n",
        "    '''\n",
        "    fit(X, Y)\n",
        "    This function train the network parameters to optimize the loss.\n",
        "    X: batch of inputs.\n",
        "    Y: batch of outputs.\n",
        "    return list of losses at each iterations.\n",
        "    '''\n",
        "    losses = []\n",
        "    for i in range(self.iterations):\n",
        "      y_hat = self.forward_pass(X)\n",
        "      self.compute_gradient(Y)\n",
        "      self.backward_pass()\n",
        "      losses.append(self.loss(y_hat, Y))\n",
        "    return losses\n",
        "\n",
        "  # Activation Function and its dervative\n",
        "  def tanh(self, x):\n",
        "    return torch.tanh(x)\n",
        "\n",
        "  def dtanh(self, x):\n",
        "    return 1 - tanh(x)**2\n",
        "\n",
        "  # Loss Function and its dervative\n",
        "  def loss(self, v, t):\n",
        "    '''\n",
        "    loss(v, t)\n",
        "    This is the mean square error for regression problems.\n",
        "    predictions: predicted values generated by the network. \n",
        "    targets: the ground truth targets\n",
        "    '''\n",
        "    return ((t - v)**2).mean()\n",
        "\n",
        "  def dloss(self, v, t):\n",
        "    '''\n",
        "    dloss(predictions, targets)\n",
        "    This is the derivative of mean square error for regression problems.\n",
        "    predictions: predicted values generated by the network. \n",
        "    targets: the ground truth targets\n",
        "    '''\n",
        "    return (-2*(t - v)).mean()\n"
      ],
      "execution_count": null,
      "outputs": []
    },
    {
      "cell_type": "code",
      "metadata": {
        "colab": {
          "base_uri": "https://localhost:8080/",
          "height": 282
        },
        "id": "ozy18lKaHdHc",
        "outputId": "e8900ec2-de49-42f7-ed67-02067c555fae"
      },
      "source": [
        "net = Network(3072, 50, 10) # create a network object.\n",
        "losses = net.fit(X_train, y_train) # fit the network.\n",
        "# plot the training loss\n",
        "plt.plot(losses)\n",
        "plt.xlabel(\"Iteration\")\n",
        "plt.ylabel(\"MSE\")\n",
        "plt.show()"
      ],
      "execution_count": null,
      "outputs": [
        {
          "output_type": "execute_result",
          "data": {
            "text/plain": [
              "[<matplotlib.lines.Line2D at 0x7f1155def7d0>]"
            ]
          },
          "metadata": {
            "tags": []
          },
          "execution_count": 168
        },
        {
          "output_type": "display_data",
          "data": {
            "image/png": "[encoded data removed]",
            "text/plain": [
              "<Figure size 432x288 with 1 Axes>"
            ]
          },
          "metadata": {
            "tags": [],
            "needs_background": "light"
          }
        }
      ]
    },
    {
      "cell_type": "code",
      "metadata": {
        "colab": {
          "base_uri": "https://localhost:8080/"
        },
        "id": "tXX6_Zt0CbxD",
        "outputId": "02b65137-f37a-45c9-ba91-644776fb3fb7"
      },
      "source": [
        "# make a prediction \n",
        "net(X_test)"
      ],
      "execution_count": null,
      "outputs": [
        {
          "output_type": "execute_result",
          "data": {
            "text/plain": [
              "tensor([[-0.9631,  0.8642,  1.0000,  ...,  0.9999, -0.9996, -0.3264],\n",
              "        [-1.0000,  0.0956,  1.0000,  ...,  0.9999, -1.0000,  0.9743],\n",
              "        [-1.0000, -0.6086,  1.0000,  ...,  1.0000, -0.8404, -0.4920],\n",
              "        ...,\n",
              "        [-1.0000, -0.9197, -0.7683,  ...,  1.0000, -1.0000,  0.9535],\n",
              "        [-0.9056,  0.9295, -0.7877,  ...,  0.9868, -0.9999,  0.8018],\n",
              "        [-0.7808,  1.0000,  0.8776,  ..., -1.0000, -0.9576,  1.0000]])"
            ]
          },
          "metadata": {
            "tags": []
          },
          "execution_count": 169
        }
      ]
    },
    {
      "cell_type": "code",
      "metadata": {
        "id": "2sczkF0XFPdD"
      },
      "source": [
        ""
      ],
      "execution_count": null,
      "outputs": []
    }
  ]
}