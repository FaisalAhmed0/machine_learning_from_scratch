{
  "nbformat": 4,
  "nbformat_minor": 0,
  "metadata": {
    "colab": {
      "name": "policy gradeints REINFORCE.ipynb",
      "provenance": [],
      "collapsed_sections": [],
      "authorship_tag": "ABX9TyN4z/yWGs9OoNClQvdv2sYE",
      "include_colab_link": true
    },
    "kernelspec": {
      "name": "python3",
      "display_name": "Python 3"
    },
    "language_info": {
      "name": "python"
    },
    "accelerator": "GPU",
    "widgets": {
      "application/vnd.jupyter.widget-state+json": {
        "7b3aa93e273b4b20835eb6d114c8d855": {
          "model_module": "@jupyter-widgets/controls",
          "model_name": "HBoxModel",
          "state": {
            "_view_name": "HBoxView",
            "_dom_classes": [],
            "_model_name": "HBoxModel",
            "_view_module": "@jupyter-widgets/controls",
            "_model_module_version": "1.5.0",
            "_view_count": null,
            "_view_module_version": "1.5.0",
            "box_style": "",
            "layout": "IPY_MODEL_1f784eceb0764eb084d33f10558542a0",
            "_model_module": "@jupyter-widgets/controls",
            "children": [
              "IPY_MODEL_812b7ae200a743b68daeec79012606c6",
              "IPY_MODEL_ef7c89534f614b8eab006d226f5f7417"
            ]
          }
        },
        "1f784eceb0764eb084d33f10558542a0": {
          "model_module": "@jupyter-widgets/base",
          "model_name": "LayoutModel",
          "state": {
            "_view_name": "LayoutView",
            "grid_template_rows": null,
            "right": null,
            "justify_content": null,
            "_view_module": "@jupyter-widgets/base",
            "overflow": null,
            "_model_module_version": "1.2.0",
            "_view_count": null,
            "flex_flow": null,
            "width": null,
            "min_width": null,
            "border": null,
            "align_items": null,
            "bottom": null,
            "_model_module": "@jupyter-widgets/base",
            "top": null,
            "grid_column": null,
            "overflow_y": null,
            "overflow_x": null,
            "grid_auto_flow": null,
            "grid_area": null,
            "grid_template_columns": null,
            "flex": null,
            "_model_name": "LayoutModel",
            "justify_items": null,
            "grid_row": null,
            "max_height": null,
            "align_content": null,
            "visibility": null,
            "align_self": null,
            "height": null,
            "min_height": null,
            "padding": null,
            "grid_auto_rows": null,
            "grid_gap": null,
            "max_width": null,
            "order": null,
            "_view_module_version": "1.2.0",
            "grid_template_areas": null,
            "object_position": null,
            "object_fit": null,
            "grid_auto_columns": null,
            "margin": null,
            "display": null,
            "left": null
          }
        },
        "812b7ae200a743b68daeec79012606c6": {
          "model_module": "@jupyter-widgets/controls",
          "model_name": "FloatProgressModel",
          "state": {
            "_view_name": "ProgressView",
            "style": "IPY_MODEL_09ca0d50620a4f09ac92d3576d5c954c",
            "_dom_classes": [],
            "description": "Batch average Reward 128.00: 100%",
            "_model_name": "FloatProgressModel",
            "bar_style": "success",
            "max": 3000,
            "_view_module": "@jupyter-widgets/controls",
            "_model_module_version": "1.5.0",
            "value": 3000,
            "_view_count": null,
            "_view_module_version": "1.5.0",
            "orientation": "horizontal",
            "min": 0,
            "description_tooltip": null,
            "_model_module": "@jupyter-widgets/controls",
            "layout": "IPY_MODEL_8958d499bd504b8696c8be122ca45aa0"
          }
        },
        "ef7c89534f614b8eab006d226f5f7417": {
          "model_module": "@jupyter-widgets/controls",
          "model_name": "HTMLModel",
          "state": {
            "_view_name": "HTMLView",
            "style": "IPY_MODEL_855432fb0fd443a88c4330fc28c30291",
            "_dom_classes": [],
            "description": "",
            "_model_name": "HTMLModel",
            "placeholder": "​",
            "_view_module": "@jupyter-widgets/controls",
            "_model_module_version": "1.5.0",
            "value": " 3000/3000 [06:05&lt;00:00,  8.20it/s]",
            "_view_count": null,
            "_view_module_version": "1.5.0",
            "description_tooltip": null,
            "_model_module": "@jupyter-widgets/controls",
            "layout": "IPY_MODEL_9f93e38c2f054ff2b92f78d7a2299315"
          }
        },
        "09ca0d50620a4f09ac92d3576d5c954c": {
          "model_module": "@jupyter-widgets/controls",
          "model_name": "ProgressStyleModel",
          "state": {
            "_view_name": "StyleView",
            "_model_name": "ProgressStyleModel",
            "description_width": "initial",
            "_view_module": "@jupyter-widgets/base",
            "_model_module_version": "1.5.0",
            "_view_count": null,
            "_view_module_version": "1.2.0",
            "bar_color": null,
            "_model_module": "@jupyter-widgets/controls"
          }
        },
        "8958d499bd504b8696c8be122ca45aa0": {
          "model_module": "@jupyter-widgets/base",
          "model_name": "LayoutModel",
          "state": {
            "_view_name": "LayoutView",
            "grid_template_rows": null,
            "right": null,
            "justify_content": null,
            "_view_module": "@jupyter-widgets/base",
            "overflow": null,
            "_model_module_version": "1.2.0",
            "_view_count": null,
            "flex_flow": null,
            "width": null,
            "min_width": null,
            "border": null,
            "align_items": null,
            "bottom": null,
            "_model_module": "@jupyter-widgets/base",
            "top": null,
            "grid_column": null,
            "overflow_y": null,
            "overflow_x": null,
            "grid_auto_flow": null,
            "grid_area": null,
            "grid_template_columns": null,
            "flex": null,
            "_model_name": "LayoutModel",
            "justify_items": null,
            "grid_row": null,
            "max_height": null,
            "align_content": null,
            "visibility": null,
            "align_self": null,
            "height": null,
            "min_height": null,
            "padding": null,
            "grid_auto_rows": null,
            "grid_gap": null,
            "max_width": null,
            "order": null,
            "_view_module_version": "1.2.0",
            "grid_template_areas": null,
            "object_position": null,
            "object_fit": null,
            "grid_auto_columns": null,
            "margin": null,
            "display": null,
            "left": null
          }
        },
        "855432fb0fd443a88c4330fc28c30291": {
          "model_module": "@jupyter-widgets/controls",
          "model_name": "DescriptionStyleModel",
          "state": {
            "_view_name": "StyleView",
            "_model_name": "DescriptionStyleModel",
            "description_width": "",
            "_view_module": "@jupyter-widgets/base",
            "_model_module_version": "1.5.0",
            "_view_count": null,
            "_view_module_version": "1.2.0",
            "_model_module": "@jupyter-widgets/controls"
          }
        },
        "9f93e38c2f054ff2b92f78d7a2299315": {
          "model_module": "@jupyter-widgets/base",
          "model_name": "LayoutModel",
          "state": {
            "_view_name": "LayoutView",
            "grid_template_rows": null,
            "right": null,
            "justify_content": null,
            "_view_module": "@jupyter-widgets/base",
            "overflow": null,
            "_model_module_version": "1.2.0",
            "_view_count": null,
            "flex_flow": null,
            "width": null,
            "min_width": null,
            "border": null,
            "align_items": null,
            "bottom": null,
            "_model_module": "@jupyter-widgets/base",
            "top": null,
            "grid_column": null,
            "overflow_y": null,
            "overflow_x": null,
            "grid_auto_flow": null,
            "grid_area": null,
            "grid_template_columns": null,
            "flex": null,
            "_model_name": "LayoutModel",
            "justify_items": null,
            "grid_row": null,
            "max_height": null,
            "align_content": null,
            "visibility": null,
            "align_self": null,
            "height": null,
            "min_height": null,
            "padding": null,
            "grid_auto_rows": null,
            "grid_gap": null,
            "max_width": null,
            "order": null,
            "_view_module_version": "1.2.0",
            "grid_template_areas": null,
            "object_position": null,
            "object_fit": null,
            "grid_auto_columns": null,
            "margin": null,
            "display": null,
            "left": null
          }
        }
      }
    }
  },
  "cells": [
    {
      "cell_type": "markdown",
      "metadata": {
        "id": "view-in-github",
        "colab_type": "text"
      },
      "source": [
        "<a href=\"https://colab.research.google.com/github/FaisalAhmed0/machine_learning_from_scratch/blob/main/policy_gradeints_REINFORCE.ipynb\" target=\"_parent\"><img src=\"https://colab.research.google.com/assets/colab-badge.svg\" alt=\"Open In Colab\"/></a>"
      ]
    },
    {
      "cell_type": "markdown",
      "metadata": {
        "id": "bswYiaaqxmAa"
      },
      "source": [
        "In this notebook, we implement policy gradient algorithm for discrete action spaces, specifically we implements the **REINFORCE** algorithm, which is basically trail and error learning"
      ]
    },
    {
      "cell_type": "markdown",
      "metadata": {
        "id": "T11LwzdHyIC2"
      },
      "source": [
        "# Setup and imports"
      ]
    },
    {
      "cell_type": "code",
      "metadata": {
        "colab": {
          "base_uri": "https://localhost:8080/"
        },
        "id": "VMW1_laV34ys",
        "outputId": "0b454df1-8839-44b4-d8ad-4aac1039b3cc"
      },
      "source": [
        "# This cell install a module for rendering a gym environment in colab\n",
        "!apt-get install -y xvfb python-opengl ffmpeg > /dev/null 2>&1\n",
        "!pip install -U colabgymrender"
      ],
      "execution_count": 15,
      "outputs": [
        {
          "output_type": "stream",
          "text": [
            "Requirement already up-to-date: colabgymrender in /usr/local/lib/python3.7/dist-packages (1.0.8)\n",
            "Requirement already satisfied, skipping upgrade: moviepy in /usr/local/lib/python3.7/dist-packages (from colabgymrender) (0.2.3.5)\n",
            "Requirement already satisfied, skipping upgrade: pyvirtualdisplay in /usr/local/lib/python3.7/dist-packages (from colabgymrender) (2.1)\n",
            "Requirement already satisfied, skipping upgrade: opencv-python in /usr/local/lib/python3.7/dist-packages (from colabgymrender) (4.1.2.30)\n",
            "Requirement already satisfied, skipping upgrade: ipython in /usr/local/lib/python3.7/dist-packages (from colabgymrender) (5.5.0)\n",
            "Requirement already satisfied, skipping upgrade: numpy in /usr/local/lib/python3.7/dist-packages (from moviepy->colabgymrender) (1.19.5)\n",
            "Requirement already satisfied, skipping upgrade: imageio<3.0,>=2.1.2 in /usr/local/lib/python3.7/dist-packages (from moviepy->colabgymrender) (2.4.1)\n",
            "Requirement already satisfied, skipping upgrade: decorator<5.0,>=4.0.2 in /usr/local/lib/python3.7/dist-packages (from moviepy->colabgymrender) (4.4.2)\n",
            "Requirement already satisfied, skipping upgrade: tqdm<5.0,>=4.11.2 in /usr/local/lib/python3.7/dist-packages (from moviepy->colabgymrender) (4.41.1)\n",
            "Requirement already satisfied, skipping upgrade: EasyProcess in /usr/local/lib/python3.7/dist-packages (from pyvirtualdisplay->colabgymrender) (0.3)\n",
            "Requirement already satisfied, skipping upgrade: prompt-toolkit<2.0.0,>=1.0.4 in /usr/local/lib/python3.7/dist-packages (from ipython->colabgymrender) (1.0.18)\n",
            "Requirement already satisfied, skipping upgrade: setuptools>=18.5 in /usr/local/lib/python3.7/dist-packages (from ipython->colabgymrender) (56.1.0)\n",
            "Requirement already satisfied, skipping upgrade: traitlets>=4.2 in /usr/local/lib/python3.7/dist-packages (from ipython->colabgymrender) (5.0.5)\n",
            "Requirement already satisfied, skipping upgrade: pygments in /usr/local/lib/python3.7/dist-packages (from ipython->colabgymrender) (2.6.1)\n",
            "Requirement already satisfied, skipping upgrade: pexpect; sys_platform != \"win32\" in /usr/local/lib/python3.7/dist-packages (from ipython->colabgymrender) (4.8.0)\n",
            "Requirement already satisfied, skipping upgrade: pickleshare in /usr/local/lib/python3.7/dist-packages (from ipython->colabgymrender) (0.7.5)\n",
            "Requirement already satisfied, skipping upgrade: simplegeneric>0.8 in /usr/local/lib/python3.7/dist-packages (from ipython->colabgymrender) (0.8.1)\n",
            "Requirement already satisfied, skipping upgrade: pillow in /usr/local/lib/python3.7/dist-packages (from imageio<3.0,>=2.1.2->moviepy->colabgymrender) (7.1.2)\n",
            "Requirement already satisfied, skipping upgrade: six>=1.9.0 in /usr/local/lib/python3.7/dist-packages (from prompt-toolkit<2.0.0,>=1.0.4->ipython->colabgymrender) (1.15.0)\n",
            "Requirement already satisfied, skipping upgrade: wcwidth in /usr/local/lib/python3.7/dist-packages (from prompt-toolkit<2.0.0,>=1.0.4->ipython->colabgymrender) (0.2.5)\n",
            "Requirement already satisfied, skipping upgrade: ipython-genutils in /usr/local/lib/python3.7/dist-packages (from traitlets>=4.2->ipython->colabgymrender) (0.2.0)\n",
            "Requirement already satisfied, skipping upgrade: ptyprocess>=0.5 in /usr/local/lib/python3.7/dist-packages (from pexpect; sys_platform != \"win32\"->ipython->colabgymrender) (0.7.0)\n"
          ],
          "name": "stdout"
        }
      ]
    },
    {
      "cell_type": "code",
      "metadata": {
        "colab": {
          "base_uri": "https://localhost:8080/"
        },
        "id": "D5n3qrTqxghW",
        "outputId": "394b8969-e0ed-447c-e147-10c8e0baf9e9"
      },
      "source": [
        "import gym # gym containt a training environemts to test our implementation \n",
        "\n",
        "# we wil use pytorch to create a train a nueral network policy\n",
        "import torch\n",
        "import torch.nn as nn\n",
        "import torch.optim as optim\n",
        "import torch.nn.functional as F\n",
        "\n",
        "import numpy as np\n",
        "\n",
        "import matplotlib.pyplot as plt\n",
        "import random\n",
        "from colabgymrender.recorder import Recorder\n",
        "\n",
        "from IPython.display import HTML\n",
        "from base64 import b64encode"
      ],
      "execution_count": 2,
      "outputs": [
        {
          "output_type": "stream",
          "text": [
            "Imageio: 'ffmpeg-linux64-v3.3.1' was not found on your computer; downloading it now.\n",
            "Try 1. Download from https://github.com/imageio/imageio-binaries/raw/master/ffmpeg/ffmpeg-linux64-v3.3.1 (43.8 MB)\n",
            "Downloading: 8192/45929032 bytes (0.0%)\b\b\b\b\b\b\b\b\b\b\b\b\b\b\b\b\b\b\b\b\b\b\b\b\b\b3358720/45929032 bytes (7.3%)\b\b\b\b\b\b\b\b\b\b\b\b\b\b\b\b\b\b\b\b\b\b\b\b\b\b\b\b\b7069696/45929032 bytes (15.4%)\b\b\b\b\b\b\b\b\b\b\b\b\b\b\b\b\b\b\b\b\b\b\b\b\b\b\b\b\b\b10567680/45929032 bytes (23.0%)\b\b\b\b\b\b\b\b\b\b\b\b\b\b\b\b\b\b\b\b\b\b\b\b\b\b\b\b\b\b\b14581760/45929032 bytes (31.7%)\b\b\b\b\b\b\b\b\b\b\b\b\b\b\b\b\b\b\b\b\b\b\b\b\b\b\b\b\b\b\b18235392/45929032 bytes (39.7%)\b\b\b\b\b\b\b\b\b\b\b\b\b\b\b\b\b\b\b\b\b\b\b\b\b\b\b\b\b\b\b21995520/45929032 bytes (47.9%)\b\b\b\b\b\b\b\b\b\b\b\b\b\b\b\b\b\b\b\b\b\b\b\b\b\b\b\b\b\b\b25722880/45929032 bytes (56.0%)\b\b\b\b\b\b\b\b\b\b\b\b\b\b\b\b\b\b\b\b\b\b\b\b\b\b\b\b\b\b\b29270016/45929032 bytes (63.7%)\b\b\b\b\b\b\b\b\b\b\b\b\b\b\b\b\b\b\b\b\b\b\b\b\b\b\b\b\b\b\b32505856/45929032 bytes (70.8%)\b\b\b\b\b\b\b\b\b\b\b\b\b\b\b\b\b\b\b\b\b\b\b\b\b\b\b\b\b\b\b36413440/45929032 bytes (79.3%)\b\b\b\b\b\b\b\b\b\b\b\b\b\b\b\b\b\b\b\b\b\b\b\b\b\b\b\b\b\b\b40075264/45929032 bytes (87.3%)\b\b\b\b\b\b\b\b\b\b\b\b\b\b\b\b\b\b\b\b\b\b\b\b\b\b\b\b\b\b\b43188224/45929032 bytes (94.0%)\b\b\b\b\b\b\b\b\b\b\b\b\b\b\b\b\b\b\b\b\b\b\b\b\b\b\b\b\b\b\b45929032/45929032 bytes (100.0%)\n",
            "  Done\n",
            "File saved as /root/.imageio/ffmpeg/ffmpeg-linux64-v3.3.1.\n"
          ],
          "name": "stdout"
        }
      ]
    },
    {
      "cell_type": "code",
      "metadata": {
        "colab": {
          "base_uri": "https://localhost:8080/",
          "height": 35
        },
        "id": "bdJg3kNOyKXF",
        "outputId": "c8fd2b56-5c06-495b-83a1-7fce1ded3551"
      },
      "source": [
        "# use gpu if avaliable\n",
        "device = 'cuda' if torch.cuda.is_available() else 'cpu'\n",
        "device"
      ],
      "execution_count": 3,
      "outputs": [
        {
          "output_type": "execute_result",
          "data": {
            "application/vnd.google.colaboratory.intrinsic+json": {
              "type": "string"
            },
            "text/plain": [
              "'cuda'"
            ]
          },
          "metadata": {
            "tags": []
          },
          "execution_count": 3
        }
      ]
    },
    {
      "cell_type": "code",
      "metadata": {
        "colab": {
          "base_uri": "https://localhost:8080/"
        },
        "id": "K17oJzT_y1kE",
        "outputId": "6edd5641-c74c-4633-ba6d-ea891ae0c4f5"
      },
      "source": [
        "# Fix the random seed\n",
        "seed = 42\n",
        "torch.manual_seed(seed)\n",
        "np.random.seed(seed)\n",
        "random.seed(seed)"
      ],
      "execution_count": 4,
      "outputs": [
        {
          "output_type": "execute_result",
          "data": {
            "text/plain": [
              "<torch._C.Generator at 0x7f677b5e97f0>"
            ]
          },
          "metadata": {
            "tags": []
          },
          "execution_count": 4
        }
      ]
    },
    {
      "cell_type": "markdown",
      "metadata": {
        "id": "CCjodkbf0UiV"
      },
      "source": [
        "# Function definitions"
      ]
    },
    {
      "cell_type": "code",
      "metadata": {
        "id": "sStGfUu_0ZC_"
      },
      "source": [
        "# function to generate samples from the environement using the policy\n",
        "@torch.no_grad()\n",
        "def generate_samples(env, policy, N, test=False):\n",
        "  '''\n",
        "  function to generate samples from the environement using the policy\n",
        "  env: gym environemt object.\n",
        "  policy: model of the policy that take a state as input and output an action.\n",
        "  N: batch size.\n",
        "  test: a boolean, if True it will run a random policy to test the function, otherwise it will use the policy model.\n",
        "  return a batch, which is a tuple of (states, actions, rewards), with a list that contains the length of each episode in the batch.\n",
        "  '''\n",
        "  batch = None\n",
        "  states = []\n",
        "  actions = []\n",
        "  rewards = []\n",
        "  eps_length = []\n",
        "  counter = 0\n",
        "  while counter < N:\n",
        "    done = False  \n",
        "    new_episode = True\n",
        "    length = 0\n",
        "    while not done:\n",
        "      if new_episode:\n",
        "        state = env.reset()\n",
        "        states.append(state)\n",
        "        new_episode = False\n",
        "      if test:\n",
        "        action = env.action_space.sample()\n",
        "        state, reward, done, _ = env.step(action)\n",
        "      else:\n",
        "        action = policy(torch.unsqueeze(torch.tensor(state, dtype=torch.float32).to(device), dim=0))\n",
        "        action_probs = F.softmax(action, dim=1)\n",
        "        action = torch.multinomial(torch.squeeze(action_probs), 1) [0]\n",
        "        state, reward, done, _ = env.step((action.cpu().item()))\n",
        "      actions.append(action)\n",
        "      rewards.append(reward)\n",
        "      counter += 1\n",
        "      length += 1\n",
        "      if counter >= N:\n",
        "        eps_length.append(length)  \n",
        "        break\n",
        "      if not done:\n",
        "        states.append(state)\n",
        "      if done:\n",
        "        eps_length.append(length)  \n",
        "  batch =  (torch.tensor(states, dtype=torch.float32), \n",
        "            torch.tensor(actions, dtype=torch.long), \n",
        "            torch.tensor(rewards, dtype=torch.float32), \n",
        "            )\n",
        "  return batch, eps_length"
      ],
      "execution_count": 8,
      "outputs": []
    },
    {
      "cell_type": "code",
      "metadata": {
        "id": "Ke4Yxrcmp15O"
      },
      "source": [
        "def reward_to_go(rewards, gamma=0.99):\n",
        "  '''\n",
        "  function to compute the rewards to go\n",
        "  rewards: a tensor containes the reward per time step\n",
        "  gamma: discount factor\n",
        "  '''\n",
        "  T = len(rewards)\n",
        "  reward_to_go = torch.zeros(T)\n",
        "  for i in reversed(range(T)):\n",
        "    reward_to_go[i] = rewards[i] + gamma * (reward_to_go[i+1] if i+1 < T else 0)\n",
        "  return reward_to_go"
      ],
      "execution_count": 9,
      "outputs": []
    },
    {
      "cell_type": "code",
      "metadata": {
        "id": "4srjsB-osVKb"
      },
      "source": [
        "def reward_baseline(rewards):\n",
        "  return torch.mean(rewards)"
      ],
      "execution_count": 10,
      "outputs": []
    },
    {
      "cell_type": "code",
      "metadata": {
        "id": "O4cd2g9Dvt_O"
      },
      "source": [
        "def train(model, batch, critieria, optimizer, eps_lengths):\n",
        "  '''\n",
        "  train(model, batch, critieria, optimizer, eps_lengths)\n",
        "  model: policy model.\n",
        "  batch: bacth of trajectory data.\n",
        "  critieria: the optimization loss.\n",
        "  optimizer: model optimizer object.\n",
        "  eps_lengths: a list containts the length of each episode in the batch.\n",
        "  '''\n",
        "  batch_size = len(batch[0])\n",
        "\n",
        "  # variables for diganoses\n",
        "  avg_reward = 0 # average reward per batch\n",
        "  avg_length = 0 # average episode length per batch\n",
        "\n",
        "  model.train()\n",
        "  model = model.to(device)\n",
        "  states, actions, rewards = batch\n",
        "  # compute the reward to go\n",
        "  rewards_to_go = torch.zeros(batch_size)\n",
        "  start = 0\n",
        "  for length in eps_length:\n",
        "    reward_to_go_per_eps = reward_to_go(rewards[start:start+length])\n",
        "    # print()\n",
        "    # print(f\"reward to go shape {reward_to_go_per_eps.shape}\")\n",
        "    # print(f\"eps length {length}\")\n",
        "    # print(f\" reward to go shape {rewards_to_go.shape}\")\n",
        "    rewards_to_go[start :start + length] = reward_to_go_per_eps\n",
        "    start = length\n",
        "  rewards_to_go = rewards_to_go.to(device)\n",
        "  # compute the rewards baseline\n",
        "  baseline = reward_baseline(rewards)\n",
        "  # forward pass\n",
        "  logits = model(states.to(device))\n",
        "  # compute the policy loss\n",
        "  loss = critieria(logits, actions.to(device))\n",
        "  # print(loss.shape)\n",
        "  loss *= (rewards_to_go.to(device) - baseline)\n",
        "  # print(loss.shape)\n",
        "  loss = loss.mean()\n",
        "  # compute the mean loss\n",
        "  # compute the gradient and update the policy parameters\n",
        "  optimizer.zero_grad()\n",
        "  loss.backward()\n",
        "  optimizer.step()\n",
        "  start = 0\n",
        "  for length in eps_length:\n",
        "    avg_length += length\n",
        "    avg_reward += rewards[start: start+length].sum()\n",
        "\n",
        "  avg_reward /= len(eps_length)\n",
        "  avg_length /= len(eps_length)\n",
        "  return loss, avg_reward, avg_length "
      ],
      "execution_count": 11,
      "outputs": []
    },
    {
      "cell_type": "markdown",
      "metadata": {
        "id": "BreRObFK2YHU"
      },
      "source": [
        "# Model defintion"
      ]
    },
    {
      "cell_type": "code",
      "metadata": {
        "id": "aFZnn8LL2WHd"
      },
      "source": [
        "class Policy(nn.Module):\n",
        "  def __init__(self, input_dim, action_dim):\n",
        "    super().__init__()\n",
        "    self.linear1 = nn.Linear(input_dim, 64)\n",
        "    self.linear2 = nn.Linear(64, 64)\n",
        "    self.output = nn.Linear(64, action_dim)\n",
        "\n",
        "  def forward(self, x):\n",
        "    x =  F.relu(self.linear1(x))\n",
        "    x =  F.relu(self.linear2(x))\n",
        "    x = self.output(x)\n",
        "    return x"
      ],
      "execution_count": 12,
      "outputs": []
    },
    {
      "cell_type": "markdown",
      "metadata": {
        "id": "IGaJa2d03YKL"
      },
      "source": [
        "# Training the agent"
      ]
    },
    {
      "cell_type": "code",
      "metadata": {
        "id": "1sdvCifG3a_7"
      },
      "source": [
        "# Hyperparameters\n",
        "lr = 3e-4\n",
        "batch_size = 256\n",
        "gamma = 0.99\n",
        "iterations = range(3000)"
      ],
      "execution_count": 44,
      "outputs": []
    },
    {
      "cell_type": "code",
      "metadata": {
        "id": "GNT0erVi3uVX"
      },
      "source": [
        "# create the environment\n",
        "env_name = \"CartPole-v0\"\n",
        "env = gym.make(env_name)"
      ],
      "execution_count": 45,
      "outputs": []
    },
    {
      "cell_type": "code",
      "metadata": {
        "colab": {
          "base_uri": "https://localhost:8080/"
        },
        "id": "ol6XCmzw4rQU",
        "outputId": "236dc98d-fc0a-46fa-84b5-b2e1fe3ea800"
      },
      "source": [
        "# number of actions\n",
        "env.action_space.n"
      ],
      "execution_count": 46,
      "outputs": [
        {
          "output_type": "execute_result",
          "data": {
            "text/plain": [
              "2"
            ]
          },
          "metadata": {
            "tags": []
          },
          "execution_count": 46
        }
      ]
    },
    {
      "cell_type": "code",
      "metadata": {
        "id": "AtIzKmoP34i0"
      },
      "source": [
        "# setup the model, loss function, and the optimizer\n",
        "model = Policy(env.observation_space.shape[0], env.action_space.n)\n",
        "model = model.to(device)\n",
        "criteria = nn.CrossEntropyLoss(reduction='none')\n",
        "optimizer = optim.Adam(model.parameters(), lr=lr)"
      ],
      "execution_count": 47,
      "outputs": []
    },
    {
      "cell_type": "code",
      "metadata": {
        "colab": {
          "base_uri": "https://localhost:8080/"
        },
        "id": "PJdF3t0lhDDK",
        "outputId": "d8df507d-d8b4-4b81-c834-2efb032c0094"
      },
      "source": [
        "eps_length"
      ],
      "execution_count": 48,
      "outputs": [
        {
          "output_type": "execute_result",
          "data": {
            "text/plain": [
              "[200, 200, 112]"
            ]
          },
          "metadata": {
            "tags": []
          },
          "execution_count": 48
        }
      ]
    },
    {
      "cell_type": "code",
      "metadata": {
        "colab": {
          "base_uri": "https://localhost:8080/",
          "height": 66,
          "referenced_widgets": [
            "7b3aa93e273b4b20835eb6d114c8d855",
            "1f784eceb0764eb084d33f10558542a0",
            "812b7ae200a743b68daeec79012606c6",
            "ef7c89534f614b8eab006d226f5f7417",
            "09ca0d50620a4f09ac92d3576d5c954c",
            "8958d499bd504b8696c8be122ca45aa0",
            "855432fb0fd443a88c4330fc28c30291",
            "9f93e38c2f054ff2b92f78d7a2299315"
          ]
        },
        "id": "FDdMyG034_6X",
        "outputId": "0420e066-d697-4226-e301-c1545b5589f7"
      },
      "source": [
        "# setup the training loop\n",
        "losses = []\n",
        "rs = []\n",
        "ls = []\n",
        "from tqdm import tqdm_notebook as tqdm\n",
        "loop = tqdm(iterations)\n",
        "for iter in loop:\n",
        "  # sample from the environment\n",
        "  batch, eps_length = generate_samples(env, model, batch_size)\n",
        "  # train the agent \n",
        "  loss, avg_reward, avg_length = train(model, batch, criteria, optimizer, eps_length)\n",
        "  rs.append(avg_reward)\n",
        "  ls.append(avg_length)\n",
        "  losses.append(loss.cpu().item())\n",
        "  loop.set_description(\"Batch average Reward %0.2f\" %avg_reward)"
      ],
      "execution_count": 49,
      "outputs": [
        {
          "output_type": "display_data",
          "data": {
            "application/vnd.jupyter.widget-view+json": {
              "model_id": "7b3aa93e273b4b20835eb6d114c8d855",
              "version_minor": 0,
              "version_major": 2
            },
            "text/plain": [
              "HBox(children=(FloatProgress(value=0.0, max=3000.0), HTML(value='')))"
            ]
          },
          "metadata": {
            "tags": []
          }
        },
        {
          "output_type": "stream",
          "text": [
            "\n"
          ],
          "name": "stdout"
        }
      ]
    },
    {
      "cell_type": "code",
      "metadata": {
        "colab": {
          "base_uri": "https://localhost:8080/",
          "height": 445
        },
        "id": "gGH4e5PrP1jv",
        "outputId": "9606fadc-ffd3-4995-897a-6e3e8bb19b02"
      },
      "source": [
        "plt.figure(figsize=(10, 7))\n",
        "plt.plot(rs)"
      ],
      "execution_count": 50,
      "outputs": [
        {
          "output_type": "execute_result",
          "data": {
            "text/plain": [
              "<Figure size 720x504 with 0 Axes>"
            ]
          },
          "metadata": {
            "tags": []
          },
          "execution_count": 50
        },
        {
          "output_type": "execute_result",
          "data": {
            "text/plain": [
              "[<matplotlib.lines.Line2D at 0x7f670d60c910>]"
            ]
          },
          "metadata": {
            "tags": []
          },
          "execution_count": 50
        },
        {
          "output_type": "display_data",
          "data": {
            "image/png": "[encoded data removed]",
            "text/plain": [
              "<Figure size 720x504 with 1 Axes>"
            ]
          },
          "metadata": {
            "tags": [],
            "needs_background": "light"
          }
        }
      ]
    },
    {
      "cell_type": "code",
      "metadata": {
        "colab": {
          "base_uri": "https://localhost:8080/",
          "height": 474
        },
        "id": "mEwURSR6w2BB",
        "outputId": "0092fa9e-ec99-4635-e549-883113b28bfa"
      },
      "source": [
        "# test the agent\n",
        "done = False\n",
        "new_episode = True\n",
        "rewards = 0\n",
        "env = gym.make(env_name)\n",
        "env = Recorder(env, \"./\")\n",
        "while not done:\n",
        "  if new_episode:\n",
        "    state = env.reset()\n",
        "    # states.append(state)\n",
        "    new_episode = False\n",
        "  action = model(torch.unsqueeze(torch.tensor(state, dtype=torch.float32).to(device), dim=0))\n",
        "  action_probs = F.softmax(action, dim=1)\n",
        "  action = torch.argmax(action_probs)\n",
        "  state, reward, done, _ = env.step((action.cpu().item()))\n",
        "  rewards += 1\n",
        "print()\n",
        "print(f\"Total rewards {rewards}\")\n",
        "env.play()"
      ],
      "execution_count": 52,
      "outputs": [
        {
          "output_type": "stream",
          "text": [
            "\r  0%|          | 0/201 [00:00<?, ?it/s]"
          ],
          "name": "stderr"
        },
        {
          "output_type": "stream",
          "text": [
            "\n",
            "Total rewards 200\n"
          ],
          "name": "stdout"
        },
        {
          "output_type": "stream",
          "text": [
            "100%|██████████| 201/201 [00:00<00:00, 377.85it/s]\n"
          ],
          "name": "stderr"
        },
        {
          "output_type": "execute_result",
          "data": {
            "text/html": [
              "<video autoplay='True'src='data:video/mp4;base64,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' controls>Sorry, seems like your browser doesn't support HTML5 audio/video</video>"
            ],
            "text/plain": [
              "<moviepy.video.io.html_tools.HTML2 object>"
            ]
          },
          "metadata": {
            "tags": []
          },
          "execution_count": 52
        }
      ]
    }
  ]
}